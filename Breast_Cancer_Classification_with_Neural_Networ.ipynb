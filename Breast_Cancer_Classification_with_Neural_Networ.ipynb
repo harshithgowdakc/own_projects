{
  "nbformat": 4,
  "nbformat_minor": 0,
  "metadata": {
    "colab": {
      "provenance": [],
      "authorship_tag": "ABX9TyMwt8WVLm81bHJRb8yBx1PF",
      "include_colab_link": true
    },
    "kernelspec": {
      "name": "python3",
      "display_name": "Python 3"
    },
    "language_info": {
      "name": "python"
    }
  },
  "cells": [
    {
      "cell_type": "markdown",
      "metadata": {
        "id": "view-in-github",
        "colab_type": "text"
      },
      "source": [
        "<a href=\"https://colab.research.google.com/github/harshithgowdakc/own_projects/blob/main/Breast_Cancer_Classification_with_Neural_Networ.ipynb\" target=\"_parent\"><img src=\"https://colab.research.google.com/assets/colab-badge.svg\" alt=\"Open In Colab\"/></a>"
      ]
    },
    {
      "cell_type": "markdown",
      "source": [
        "**Breast Cancer Classification with a simple Neural Network (NN)**"
      ],
      "metadata": {
        "id": "RNC9RB0Non0k"
      }
    },
    {
      "cell_type": "code",
      "metadata": {
        "id": "XqsQmOXGXXTe"
      },
      "source": [
        "import numpy as np\n",
        "import pandas as pd\n",
        "import matplotlib.pyplot as plt\n",
        "import sklearn.datasets\n",
        "from sklearn.model_selection import train_test_split"
      ],
      "execution_count": null,
      "outputs": []
    },
    {
      "cell_type": "markdown",
      "metadata": {
        "id": "pwJ9zLukg3Q_"
      },
      "source": [
        "Data Collection & Processing"
      ]
    },
    {
      "cell_type": "code",
      "metadata": {
        "id": "j6bMZMKUgz7L"
      },
      "source": [
        "# loading the data from sklearn\n",
        "breast_cancer_dataset = sklearn.datasets.load_breast_cancer()"
      ],
      "execution_count": null,
      "outputs": []
    },
    {
      "cell_type": "code",
      "metadata": {
        "colab": {
          "base_uri": "https://localhost:8080/"
        },
        "id": "xdY6i73KgkDG",
        "outputId": "649c13d9-3338-41e8-932f-95fb4edafa2e"
      },
      "source": [
        "print(breast_cancer_dataset)"
      ],
      "execution_count": null,
      "outputs": [
        {
          "output_type": "stream",
          "name": "stdout",
          "text": [
            "{'data': array([[1.799e+01, 1.038e+01, 1.228e+02, ..., 2.654e-01, 4.601e-01,\n",
            "        1.189e-01],\n",
            "       [2.057e+01, 1.777e+01, 1.329e+02, ..., 1.860e-01, 2.750e-01,\n",
            "        8.902e-02],\n",
            "       [1.969e+01, 2.125e+01, 1.300e+02, ..., 2.430e-01, 3.613e-01,\n",
            "        8.758e-02],\n",
            "       ...,\n",
            "       [1.660e+01, 2.808e+01, 1.083e+02, ..., 1.418e-01, 2.218e-01,\n",
            "        7.820e-02],\n",
            "       [2.060e+01, 2.933e+01, 1.401e+02, ..., 2.650e-01, 4.087e-01,\n",
            "        1.240e-01],\n",
            "       [7.760e+00, 2.454e+01, 4.792e+01, ..., 0.000e+00, 2.871e-01,\n",
            "        7.039e-02]]), 'target': array([0, 0, 0, 0, 0, 0, 0, 0, 0, 0, 0, 0, 0, 0, 0, 0, 0, 0, 0, 1, 1, 1,\n",
            "       0, 0, 0, 0, 0, 0, 0, 0, 0, 0, 0, 0, 0, 0, 0, 1, 0, 0, 0, 0, 0, 0,\n",
            "       0, 0, 1, 0, 1, 1, 1, 1, 1, 0, 0, 1, 0, 0, 1, 1, 1, 1, 0, 1, 0, 0,\n",
            "       1, 1, 1, 1, 0, 1, 0, 0, 1, 0, 1, 0, 0, 1, 1, 1, 0, 0, 1, 0, 0, 0,\n",
            "       1, 1, 1, 0, 1, 1, 0, 0, 1, 1, 1, 0, 0, 1, 1, 1, 1, 0, 1, 1, 0, 1,\n",
            "       1, 1, 1, 1, 1, 1, 1, 0, 0, 0, 1, 0, 0, 1, 1, 1, 0, 0, 1, 0, 1, 0,\n",
            "       0, 1, 0, 0, 1, 1, 0, 1, 1, 0, 1, 1, 1, 1, 0, 1, 1, 1, 1, 1, 1, 1,\n",
            "       1, 1, 0, 1, 1, 1, 1, 0, 0, 1, 0, 1, 1, 0, 0, 1, 1, 0, 0, 1, 1, 1,\n",
            "       1, 0, 1, 1, 0, 0, 0, 1, 0, 1, 0, 1, 1, 1, 0, 1, 1, 0, 0, 1, 0, 0,\n",
            "       0, 0, 1, 0, 0, 0, 1, 0, 1, 0, 1, 1, 0, 1, 0, 0, 0, 0, 1, 1, 0, 0,\n",
            "       1, 1, 1, 0, 1, 1, 1, 1, 1, 0, 0, 1, 1, 0, 1, 1, 0, 0, 1, 0, 1, 1,\n",
            "       1, 1, 0, 1, 1, 1, 1, 1, 0, 1, 0, 0, 0, 0, 0, 0, 0, 0, 0, 0, 0, 0,\n",
            "       0, 0, 1, 1, 1, 1, 1, 1, 0, 1, 0, 1, 1, 0, 1, 1, 0, 1, 0, 0, 1, 1,\n",
            "       1, 1, 1, 1, 1, 1, 1, 1, 1, 1, 1, 0, 1, 1, 0, 1, 0, 1, 1, 1, 1, 1,\n",
            "       1, 1, 1, 1, 1, 1, 1, 1, 1, 0, 1, 1, 1, 0, 1, 0, 1, 1, 1, 1, 0, 0,\n",
            "       0, 1, 1, 1, 1, 0, 1, 0, 1, 0, 1, 1, 1, 0, 1, 1, 1, 1, 1, 1, 1, 0,\n",
            "       0, 0, 1, 1, 1, 1, 1, 1, 1, 1, 1, 1, 1, 0, 0, 1, 0, 0, 0, 1, 0, 0,\n",
            "       1, 1, 1, 1, 1, 0, 1, 1, 1, 1, 1, 0, 1, 1, 1, 0, 1, 1, 0, 0, 1, 1,\n",
            "       1, 1, 1, 1, 0, 1, 1, 1, 1, 1, 1, 1, 0, 1, 1, 1, 1, 1, 0, 1, 1, 0,\n",
            "       1, 1, 1, 1, 1, 1, 1, 1, 1, 1, 1, 1, 0, 1, 0, 0, 1, 0, 1, 1, 1, 1,\n",
            "       1, 0, 1, 1, 0, 1, 0, 1, 1, 0, 1, 0, 1, 1, 1, 1, 1, 1, 1, 1, 0, 0,\n",
            "       1, 1, 1, 1, 1, 1, 0, 1, 1, 1, 1, 1, 1, 1, 1, 1, 1, 0, 1, 1, 1, 1,\n",
            "       1, 1, 1, 0, 1, 0, 1, 1, 0, 1, 1, 1, 1, 1, 0, 0, 1, 0, 1, 0, 1, 1,\n",
            "       1, 1, 1, 0, 1, 1, 0, 1, 0, 1, 0, 0, 1, 1, 1, 0, 1, 1, 1, 1, 1, 1,\n",
            "       1, 1, 1, 1, 1, 0, 1, 0, 0, 1, 1, 1, 1, 1, 1, 1, 1, 1, 1, 1, 1, 1,\n",
            "       1, 1, 1, 1, 1, 1, 1, 1, 1, 1, 1, 1, 0, 0, 0, 0, 0, 0, 1]), 'frame': None, 'target_names': array(['malignant', 'benign'], dtype='<U9'), 'DESCR': '.. _breast_cancer_dataset:\\n\\nBreast cancer wisconsin (diagnostic) dataset\\n--------------------------------------------\\n\\n**Data Set Characteristics:**\\n\\n    :Number of Instances: 569\\n\\n    :Number of Attributes: 30 numeric, predictive attributes and the class\\n\\n    :Attribute Information:\\n        - radius (mean of distances from center to points on the perimeter)\\n        - texture (standard deviation of gray-scale values)\\n        - perimeter\\n        - area\\n        - smoothness (local variation in radius lengths)\\n        - compactness (perimeter^2 / area - 1.0)\\n        - concavity (severity of concave portions of the contour)\\n        - concave points (number of concave portions of the contour)\\n        - symmetry\\n        - fractal dimension (\"coastline approximation\" - 1)\\n\\n        The mean, standard error, and \"worst\" or largest (mean of the three\\n        worst/largest values) of these features were computed for each image,\\n        resulting in 30 features.  For instance, field 0 is Mean Radius, field\\n        10 is Radius SE, field 20 is Worst Radius.\\n\\n        - class:\\n                - WDBC-Malignant\\n                - WDBC-Benign\\n\\n    :Summary Statistics:\\n\\n    ===================================== ====== ======\\n                                           Min    Max\\n    ===================================== ====== ======\\n    radius (mean):                        6.981  28.11\\n    texture (mean):                       9.71   39.28\\n    perimeter (mean):                     43.79  188.5\\n    area (mean):                          143.5  2501.0\\n    smoothness (mean):                    0.053  0.163\\n    compactness (mean):                   0.019  0.345\\n    concavity (mean):                     0.0    0.427\\n    concave points (mean):                0.0    0.201\\n    symmetry (mean):                      0.106  0.304\\n    fractal dimension (mean):             0.05   0.097\\n    radius (standard error):              0.112  2.873\\n    texture (standard error):             0.36   4.885\\n    perimeter (standard error):           0.757  21.98\\n    area (standard error):                6.802  542.2\\n    smoothness (standard error):          0.002  0.031\\n    compactness (standard error):         0.002  0.135\\n    concavity (standard error):           0.0    0.396\\n    concave points (standard error):      0.0    0.053\\n    symmetry (standard error):            0.008  0.079\\n    fractal dimension (standard error):   0.001  0.03\\n    radius (worst):                       7.93   36.04\\n    texture (worst):                      12.02  49.54\\n    perimeter (worst):                    50.41  251.2\\n    area (worst):                         185.2  4254.0\\n    smoothness (worst):                   0.071  0.223\\n    compactness (worst):                  0.027  1.058\\n    concavity (worst):                    0.0    1.252\\n    concave points (worst):               0.0    0.291\\n    symmetry (worst):                     0.156  0.664\\n    fractal dimension (worst):            0.055  0.208\\n    ===================================== ====== ======\\n\\n    :Missing Attribute Values: None\\n\\n    :Class Distribution: 212 - Malignant, 357 - Benign\\n\\n    :Creator:  Dr. William H. Wolberg, W. Nick Street, Olvi L. Mangasarian\\n\\n    :Donor: Nick Street\\n\\n    :Date: November, 1995\\n\\nThis is a copy of UCI ML Breast Cancer Wisconsin (Diagnostic) datasets.\\nhttps://goo.gl/U2Uwz2\\n\\nFeatures are computed from a digitized image of a fine needle\\naspirate (FNA) of a breast mass.  They describe\\ncharacteristics of the cell nuclei present in the image.\\n\\nSeparating plane described above was obtained using\\nMultisurface Method-Tree (MSM-T) [K. P. Bennett, \"Decision Tree\\nConstruction Via Linear Programming.\" Proceedings of the 4th\\nMidwest Artificial Intelligence and Cognitive Science Society,\\npp. 97-101, 1992], a classification method which uses linear\\nprogramming to construct a decision tree.  Relevant features\\nwere selected using an exhaustive search in the space of 1-4\\nfeatures and 1-3 separating planes.\\n\\nThe actual linear program used to obtain the separating plane\\nin the 3-dimensional space is that described in:\\n[K. P. Bennett and O. L. Mangasarian: \"Robust Linear\\nProgramming Discrimination of Two Linearly Inseparable Sets\",\\nOptimization Methods and Software 1, 1992, 23-34].\\n\\nThis database is also available through the UW CS ftp server:\\n\\nftp ftp.cs.wisc.edu\\ncd math-prog/cpo-dataset/machine-learn/WDBC/\\n\\n.. topic:: References\\n\\n   - W.N. Street, W.H. Wolberg and O.L. Mangasarian. Nuclear feature extraction \\n     for breast tumor diagnosis. IS&T/SPIE 1993 International Symposium on \\n     Electronic Imaging: Science and Technology, volume 1905, pages 861-870,\\n     San Jose, CA, 1993.\\n   - O.L. Mangasarian, W.N. Street and W.H. Wolberg. Breast cancer diagnosis and \\n     prognosis via linear programming. Operations Research, 43(4), pages 570-577, \\n     July-August 1995.\\n   - W.H. Wolberg, W.N. Street, and O.L. Mangasarian. Machine learning techniques\\n     to diagnose breast cancer from fine-needle aspirates. Cancer Letters 77 (1994) \\n     163-171.', 'feature_names': array(['mean radius', 'mean texture', 'mean perimeter', 'mean area',\n",
            "       'mean smoothness', 'mean compactness', 'mean concavity',\n",
            "       'mean concave points', 'mean symmetry', 'mean fractal dimension',\n",
            "       'radius error', 'texture error', 'perimeter error', 'area error',\n",
            "       'smoothness error', 'compactness error', 'concavity error',\n",
            "       'concave points error', 'symmetry error',\n",
            "       'fractal dimension error', 'worst radius', 'worst texture',\n",
            "       'worst perimeter', 'worst area', 'worst smoothness',\n",
            "       'worst compactness', 'worst concavity', 'worst concave points',\n",
            "       'worst symmetry', 'worst fractal dimension'], dtype='<U23'), 'filename': 'breast_cancer.csv', 'data_module': 'sklearn.datasets.data'}\n"
          ]
        }
      ]
    },
    {
      "cell_type": "code",
      "metadata": {
        "id": "yFamhVTThMdK"
      },
      "source": [
        "# loading the data to a data frame\n",
        "data_frame = pd.DataFrame(breast_cancer_dataset.data, columns = breast_cancer_dataset.feature_names)"
      ],
      "execution_count": null,
      "outputs": []
    },
    {
      "cell_type": "code",
      "metadata": {
        "colab": {
          "base_uri": "https://localhost:8080/",
          "height": 314
        },
        "id": "xLiv1maYiGVH",
        "outputId": "4d8514d6-fb9c-442a-fd0c-f3a058404fb7"
      },
      "source": [
        "# print the first 5 rows of the dataframe\n",
        "data_frame.head()"
      ],
      "execution_count": null,
      "outputs": [
        {
          "output_type": "execute_result",
          "data": {
            "text/plain": [
              "   mean radius  mean texture  mean perimeter  mean area  mean smoothness  \\\n",
              "0        17.99         10.38          122.80     1001.0          0.11840   \n",
              "1        20.57         17.77          132.90     1326.0          0.08474   \n",
              "2        19.69         21.25          130.00     1203.0          0.10960   \n",
              "3        11.42         20.38           77.58      386.1          0.14250   \n",
              "4        20.29         14.34          135.10     1297.0          0.10030   \n",
              "\n",
              "   mean compactness  mean concavity  mean concave points  mean symmetry  \\\n",
              "0           0.27760          0.3001              0.14710         0.2419   \n",
              "1           0.07864          0.0869              0.07017         0.1812   \n",
              "2           0.15990          0.1974              0.12790         0.2069   \n",
              "3           0.28390          0.2414              0.10520         0.2597   \n",
              "4           0.13280          0.1980              0.10430         0.1809   \n",
              "\n",
              "   mean fractal dimension  ...  worst radius  worst texture  worst perimeter  \\\n",
              "0                 0.07871  ...         25.38          17.33           184.60   \n",
              "1                 0.05667  ...         24.99          23.41           158.80   \n",
              "2                 0.05999  ...         23.57          25.53           152.50   \n",
              "3                 0.09744  ...         14.91          26.50            98.87   \n",
              "4                 0.05883  ...         22.54          16.67           152.20   \n",
              "\n",
              "   worst area  worst smoothness  worst compactness  worst concavity  \\\n",
              "0      2019.0            0.1622             0.6656           0.7119   \n",
              "1      1956.0            0.1238             0.1866           0.2416   \n",
              "2      1709.0            0.1444             0.4245           0.4504   \n",
              "3       567.7            0.2098             0.8663           0.6869   \n",
              "4      1575.0            0.1374             0.2050           0.4000   \n",
              "\n",
              "   worst concave points  worst symmetry  worst fractal dimension  \n",
              "0                0.2654          0.4601                  0.11890  \n",
              "1                0.1860          0.2750                  0.08902  \n",
              "2                0.2430          0.3613                  0.08758  \n",
              "3                0.2575          0.6638                  0.17300  \n",
              "4                0.1625          0.2364                  0.07678  \n",
              "\n",
              "[5 rows x 30 columns]"
            ],
            "text/html": [
              "\n",
              "  <div id=\"df-b47c58b4-7ce2-4eb4-be70-d0d70af9c64b\">\n",
              "    <div class=\"colab-df-container\">\n",
              "      <div>\n",
              "<style scoped>\n",
              "    .dataframe tbody tr th:only-of-type {\n",
              "        vertical-align: middle;\n",
              "    }\n",
              "\n",
              "    .dataframe tbody tr th {\n",
              "        vertical-align: top;\n",
              "    }\n",
              "\n",
              "    .dataframe thead th {\n",
              "        text-align: right;\n",
              "    }\n",
              "</style>\n",
              "<table border=\"1\" class=\"dataframe\">\n",
              "  <thead>\n",
              "    <tr style=\"text-align: right;\">\n",
              "      <th></th>\n",
              "      <th>mean radius</th>\n",
              "      <th>mean texture</th>\n",
              "      <th>mean perimeter</th>\n",
              "      <th>mean area</th>\n",
              "      <th>mean smoothness</th>\n",
              "      <th>mean compactness</th>\n",
              "      <th>mean concavity</th>\n",
              "      <th>mean concave points</th>\n",
              "      <th>mean symmetry</th>\n",
              "      <th>mean fractal dimension</th>\n",
              "      <th>...</th>\n",
              "      <th>worst radius</th>\n",
              "      <th>worst texture</th>\n",
              "      <th>worst perimeter</th>\n",
              "      <th>worst area</th>\n",
              "      <th>worst smoothness</th>\n",
              "      <th>worst compactness</th>\n",
              "      <th>worst concavity</th>\n",
              "      <th>worst concave points</th>\n",
              "      <th>worst symmetry</th>\n",
              "      <th>worst fractal dimension</th>\n",
              "    </tr>\n",
              "  </thead>\n",
              "  <tbody>\n",
              "    <tr>\n",
              "      <th>0</th>\n",
              "      <td>17.99</td>\n",
              "      <td>10.38</td>\n",
              "      <td>122.80</td>\n",
              "      <td>1001.0</td>\n",
              "      <td>0.11840</td>\n",
              "      <td>0.27760</td>\n",
              "      <td>0.3001</td>\n",
              "      <td>0.14710</td>\n",
              "      <td>0.2419</td>\n",
              "      <td>0.07871</td>\n",
              "      <td>...</td>\n",
              "      <td>25.38</td>\n",
              "      <td>17.33</td>\n",
              "      <td>184.60</td>\n",
              "      <td>2019.0</td>\n",
              "      <td>0.1622</td>\n",
              "      <td>0.6656</td>\n",
              "      <td>0.7119</td>\n",
              "      <td>0.2654</td>\n",
              "      <td>0.4601</td>\n",
              "      <td>0.11890</td>\n",
              "    </tr>\n",
              "    <tr>\n",
              "      <th>1</th>\n",
              "      <td>20.57</td>\n",
              "      <td>17.77</td>\n",
              "      <td>132.90</td>\n",
              "      <td>1326.0</td>\n",
              "      <td>0.08474</td>\n",
              "      <td>0.07864</td>\n",
              "      <td>0.0869</td>\n",
              "      <td>0.07017</td>\n",
              "      <td>0.1812</td>\n",
              "      <td>0.05667</td>\n",
              "      <td>...</td>\n",
              "      <td>24.99</td>\n",
              "      <td>23.41</td>\n",
              "      <td>158.80</td>\n",
              "      <td>1956.0</td>\n",
              "      <td>0.1238</td>\n",
              "      <td>0.1866</td>\n",
              "      <td>0.2416</td>\n",
              "      <td>0.1860</td>\n",
              "      <td>0.2750</td>\n",
              "      <td>0.08902</td>\n",
              "    </tr>\n",
              "    <tr>\n",
              "      <th>2</th>\n",
              "      <td>19.69</td>\n",
              "      <td>21.25</td>\n",
              "      <td>130.00</td>\n",
              "      <td>1203.0</td>\n",
              "      <td>0.10960</td>\n",
              "      <td>0.15990</td>\n",
              "      <td>0.1974</td>\n",
              "      <td>0.12790</td>\n",
              "      <td>0.2069</td>\n",
              "      <td>0.05999</td>\n",
              "      <td>...</td>\n",
              "      <td>23.57</td>\n",
              "      <td>25.53</td>\n",
              "      <td>152.50</td>\n",
              "      <td>1709.0</td>\n",
              "      <td>0.1444</td>\n",
              "      <td>0.4245</td>\n",
              "      <td>0.4504</td>\n",
              "      <td>0.2430</td>\n",
              "      <td>0.3613</td>\n",
              "      <td>0.08758</td>\n",
              "    </tr>\n",
              "    <tr>\n",
              "      <th>3</th>\n",
              "      <td>11.42</td>\n",
              "      <td>20.38</td>\n",
              "      <td>77.58</td>\n",
              "      <td>386.1</td>\n",
              "      <td>0.14250</td>\n",
              "      <td>0.28390</td>\n",
              "      <td>0.2414</td>\n",
              "      <td>0.10520</td>\n",
              "      <td>0.2597</td>\n",
              "      <td>0.09744</td>\n",
              "      <td>...</td>\n",
              "      <td>14.91</td>\n",
              "      <td>26.50</td>\n",
              "      <td>98.87</td>\n",
              "      <td>567.7</td>\n",
              "      <td>0.2098</td>\n",
              "      <td>0.8663</td>\n",
              "      <td>0.6869</td>\n",
              "      <td>0.2575</td>\n",
              "      <td>0.6638</td>\n",
              "      <td>0.17300</td>\n",
              "    </tr>\n",
              "    <tr>\n",
              "      <th>4</th>\n",
              "      <td>20.29</td>\n",
              "      <td>14.34</td>\n",
              "      <td>135.10</td>\n",
              "      <td>1297.0</td>\n",
              "      <td>0.10030</td>\n",
              "      <td>0.13280</td>\n",
              "      <td>0.1980</td>\n",
              "      <td>0.10430</td>\n",
              "      <td>0.1809</td>\n",
              "      <td>0.05883</td>\n",
              "      <td>...</td>\n",
              "      <td>22.54</td>\n",
              "      <td>16.67</td>\n",
              "      <td>152.20</td>\n",
              "      <td>1575.0</td>\n",
              "      <td>0.1374</td>\n",
              "      <td>0.2050</td>\n",
              "      <td>0.4000</td>\n",
              "      <td>0.1625</td>\n",
              "      <td>0.2364</td>\n",
              "      <td>0.07678</td>\n",
              "    </tr>\n",
              "  </tbody>\n",
              "</table>\n",
              "<p>5 rows × 30 columns</p>\n",
              "</div>\n",
              "      <button class=\"colab-df-convert\" onclick=\"convertToInteractive('df-b47c58b4-7ce2-4eb4-be70-d0d70af9c64b')\"\n",
              "              title=\"Convert this dataframe to an interactive table.\"\n",
              "              style=\"display:none;\">\n",
              "        \n",
              "  <svg xmlns=\"http://www.w3.org/2000/svg\" height=\"24px\"viewBox=\"0 0 24 24\"\n",
              "       width=\"24px\">\n",
              "    <path d=\"M0 0h24v24H0V0z\" fill=\"none\"/>\n",
              "    <path d=\"M18.56 5.44l.94 2.06.94-2.06 2.06-.94-2.06-.94-.94-2.06-.94 2.06-2.06.94zm-11 1L8.5 8.5l.94-2.06 2.06-.94-2.06-.94L8.5 2.5l-.94 2.06-2.06.94zm10 10l.94 2.06.94-2.06 2.06-.94-2.06-.94-.94-2.06-.94 2.06-2.06.94z\"/><path d=\"M17.41 7.96l-1.37-1.37c-.4-.4-.92-.59-1.43-.59-.52 0-1.04.2-1.43.59L10.3 9.45l-7.72 7.72c-.78.78-.78 2.05 0 2.83L4 21.41c.39.39.9.59 1.41.59.51 0 1.02-.2 1.41-.59l7.78-7.78 2.81-2.81c.8-.78.8-2.07 0-2.86zM5.41 20L4 18.59l7.72-7.72 1.47 1.35L5.41 20z\"/>\n",
              "  </svg>\n",
              "      </button>\n",
              "      \n",
              "  <style>\n",
              "    .colab-df-container {\n",
              "      display:flex;\n",
              "      flex-wrap:wrap;\n",
              "      gap: 12px;\n",
              "    }\n",
              "\n",
              "    .colab-df-convert {\n",
              "      background-color: #E8F0FE;\n",
              "      border: none;\n",
              "      border-radius: 50%;\n",
              "      cursor: pointer;\n",
              "      display: none;\n",
              "      fill: #1967D2;\n",
              "      height: 32px;\n",
              "      padding: 0 0 0 0;\n",
              "      width: 32px;\n",
              "    }\n",
              "\n",
              "    .colab-df-convert:hover {\n",
              "      background-color: #E2EBFA;\n",
              "      box-shadow: 0px 1px 2px rgba(60, 64, 67, 0.3), 0px 1px 3px 1px rgba(60, 64, 67, 0.15);\n",
              "      fill: #174EA6;\n",
              "    }\n",
              "\n",
              "    [theme=dark] .colab-df-convert {\n",
              "      background-color: #3B4455;\n",
              "      fill: #D2E3FC;\n",
              "    }\n",
              "\n",
              "    [theme=dark] .colab-df-convert:hover {\n",
              "      background-color: #434B5C;\n",
              "      box-shadow: 0px 1px 3px 1px rgba(0, 0, 0, 0.15);\n",
              "      filter: drop-shadow(0px 1px 2px rgba(0, 0, 0, 0.3));\n",
              "      fill: #FFFFFF;\n",
              "    }\n",
              "  </style>\n",
              "\n",
              "      <script>\n",
              "        const buttonEl =\n",
              "          document.querySelector('#df-b47c58b4-7ce2-4eb4-be70-d0d70af9c64b button.colab-df-convert');\n",
              "        buttonEl.style.display =\n",
              "          google.colab.kernel.accessAllowed ? 'block' : 'none';\n",
              "\n",
              "        async function convertToInteractive(key) {\n",
              "          const element = document.querySelector('#df-b47c58b4-7ce2-4eb4-be70-d0d70af9c64b');\n",
              "          const dataTable =\n",
              "            await google.colab.kernel.invokeFunction('convertToInteractive',\n",
              "                                                     [key], {});\n",
              "          if (!dataTable) return;\n",
              "\n",
              "          const docLinkHtml = 'Like what you see? Visit the ' +\n",
              "            '<a target=\"_blank\" href=https://colab.research.google.com/notebooks/data_table.ipynb>data table notebook</a>'\n",
              "            + ' to learn more about interactive tables.';\n",
              "          element.innerHTML = '';\n",
              "          dataTable['output_type'] = 'display_data';\n",
              "          await google.colab.output.renderOutput(dataTable, element);\n",
              "          const docLink = document.createElement('div');\n",
              "          docLink.innerHTML = docLinkHtml;\n",
              "          element.appendChild(docLink);\n",
              "        }\n",
              "      </script>\n",
              "    </div>\n",
              "  </div>\n",
              "  "
            ]
          },
          "metadata": {},
          "execution_count": 5
        }
      ]
    },
    {
      "cell_type": "code",
      "metadata": {
        "id": "UEvD_aTDiNLF"
      },
      "source": [
        "# adding the 'target' column to the data frame\n",
        "data_frame['label'] = breast_cancer_dataset.target"
      ],
      "execution_count": null,
      "outputs": []
    },
    {
      "cell_type": "code",
      "metadata": {
        "colab": {
          "base_uri": "https://localhost:8080/",
          "height": 314
        },
        "id": "f_kmjEA5io2v",
        "outputId": "10ac015b-75fc-46ad-afce-74285656ab3b"
      },
      "source": [
        "# print last 5 rows of the dataframe\n",
        "data_frame.tail()"
      ],
      "execution_count": null,
      "outputs": [
        {
          "output_type": "execute_result",
          "data": {
            "text/plain": [
              "     mean radius  mean texture  mean perimeter  mean area  mean smoothness  \\\n",
              "564        21.56         22.39          142.00     1479.0          0.11100   \n",
              "565        20.13         28.25          131.20     1261.0          0.09780   \n",
              "566        16.60         28.08          108.30      858.1          0.08455   \n",
              "567        20.60         29.33          140.10     1265.0          0.11780   \n",
              "568         7.76         24.54           47.92      181.0          0.05263   \n",
              "\n",
              "     mean compactness  mean concavity  mean concave points  mean symmetry  \\\n",
              "564           0.11590         0.24390              0.13890         0.1726   \n",
              "565           0.10340         0.14400              0.09791         0.1752   \n",
              "566           0.10230         0.09251              0.05302         0.1590   \n",
              "567           0.27700         0.35140              0.15200         0.2397   \n",
              "568           0.04362         0.00000              0.00000         0.1587   \n",
              "\n",
              "     mean fractal dimension  ...  worst texture  worst perimeter  worst area  \\\n",
              "564                 0.05623  ...          26.40           166.10      2027.0   \n",
              "565                 0.05533  ...          38.25           155.00      1731.0   \n",
              "566                 0.05648  ...          34.12           126.70      1124.0   \n",
              "567                 0.07016  ...          39.42           184.60      1821.0   \n",
              "568                 0.05884  ...          30.37            59.16       268.6   \n",
              "\n",
              "     worst smoothness  worst compactness  worst concavity  \\\n",
              "564           0.14100            0.21130           0.4107   \n",
              "565           0.11660            0.19220           0.3215   \n",
              "566           0.11390            0.30940           0.3403   \n",
              "567           0.16500            0.86810           0.9387   \n",
              "568           0.08996            0.06444           0.0000   \n",
              "\n",
              "     worst concave points  worst symmetry  worst fractal dimension  label  \n",
              "564                0.2216          0.2060                  0.07115      0  \n",
              "565                0.1628          0.2572                  0.06637      0  \n",
              "566                0.1418          0.2218                  0.07820      0  \n",
              "567                0.2650          0.4087                  0.12400      0  \n",
              "568                0.0000          0.2871                  0.07039      1  \n",
              "\n",
              "[5 rows x 31 columns]"
            ],
            "text/html": [
              "\n",
              "  <div id=\"df-202a423b-43d4-42b2-b7d5-54fe0cf03305\">\n",
              "    <div class=\"colab-df-container\">\n",
              "      <div>\n",
              "<style scoped>\n",
              "    .dataframe tbody tr th:only-of-type {\n",
              "        vertical-align: middle;\n",
              "    }\n",
              "\n",
              "    .dataframe tbody tr th {\n",
              "        vertical-align: top;\n",
              "    }\n",
              "\n",
              "    .dataframe thead th {\n",
              "        text-align: right;\n",
              "    }\n",
              "</style>\n",
              "<table border=\"1\" class=\"dataframe\">\n",
              "  <thead>\n",
              "    <tr style=\"text-align: right;\">\n",
              "      <th></th>\n",
              "      <th>mean radius</th>\n",
              "      <th>mean texture</th>\n",
              "      <th>mean perimeter</th>\n",
              "      <th>mean area</th>\n",
              "      <th>mean smoothness</th>\n",
              "      <th>mean compactness</th>\n",
              "      <th>mean concavity</th>\n",
              "      <th>mean concave points</th>\n",
              "      <th>mean symmetry</th>\n",
              "      <th>mean fractal dimension</th>\n",
              "      <th>...</th>\n",
              "      <th>worst texture</th>\n",
              "      <th>worst perimeter</th>\n",
              "      <th>worst area</th>\n",
              "      <th>worst smoothness</th>\n",
              "      <th>worst compactness</th>\n",
              "      <th>worst concavity</th>\n",
              "      <th>worst concave points</th>\n",
              "      <th>worst symmetry</th>\n",
              "      <th>worst fractal dimension</th>\n",
              "      <th>label</th>\n",
              "    </tr>\n",
              "  </thead>\n",
              "  <tbody>\n",
              "    <tr>\n",
              "      <th>564</th>\n",
              "      <td>21.56</td>\n",
              "      <td>22.39</td>\n",
              "      <td>142.00</td>\n",
              "      <td>1479.0</td>\n",
              "      <td>0.11100</td>\n",
              "      <td>0.11590</td>\n",
              "      <td>0.24390</td>\n",
              "      <td>0.13890</td>\n",
              "      <td>0.1726</td>\n",
              "      <td>0.05623</td>\n",
              "      <td>...</td>\n",
              "      <td>26.40</td>\n",
              "      <td>166.10</td>\n",
              "      <td>2027.0</td>\n",
              "      <td>0.14100</td>\n",
              "      <td>0.21130</td>\n",
              "      <td>0.4107</td>\n",
              "      <td>0.2216</td>\n",
              "      <td>0.2060</td>\n",
              "      <td>0.07115</td>\n",
              "      <td>0</td>\n",
              "    </tr>\n",
              "    <tr>\n",
              "      <th>565</th>\n",
              "      <td>20.13</td>\n",
              "      <td>28.25</td>\n",
              "      <td>131.20</td>\n",
              "      <td>1261.0</td>\n",
              "      <td>0.09780</td>\n",
              "      <td>0.10340</td>\n",
              "      <td>0.14400</td>\n",
              "      <td>0.09791</td>\n",
              "      <td>0.1752</td>\n",
              "      <td>0.05533</td>\n",
              "      <td>...</td>\n",
              "      <td>38.25</td>\n",
              "      <td>155.00</td>\n",
              "      <td>1731.0</td>\n",
              "      <td>0.11660</td>\n",
              "      <td>0.19220</td>\n",
              "      <td>0.3215</td>\n",
              "      <td>0.1628</td>\n",
              "      <td>0.2572</td>\n",
              "      <td>0.06637</td>\n",
              "      <td>0</td>\n",
              "    </tr>\n",
              "    <tr>\n",
              "      <th>566</th>\n",
              "      <td>16.60</td>\n",
              "      <td>28.08</td>\n",
              "      <td>108.30</td>\n",
              "      <td>858.1</td>\n",
              "      <td>0.08455</td>\n",
              "      <td>0.10230</td>\n",
              "      <td>0.09251</td>\n",
              "      <td>0.05302</td>\n",
              "      <td>0.1590</td>\n",
              "      <td>0.05648</td>\n",
              "      <td>...</td>\n",
              "      <td>34.12</td>\n",
              "      <td>126.70</td>\n",
              "      <td>1124.0</td>\n",
              "      <td>0.11390</td>\n",
              "      <td>0.30940</td>\n",
              "      <td>0.3403</td>\n",
              "      <td>0.1418</td>\n",
              "      <td>0.2218</td>\n",
              "      <td>0.07820</td>\n",
              "      <td>0</td>\n",
              "    </tr>\n",
              "    <tr>\n",
              "      <th>567</th>\n",
              "      <td>20.60</td>\n",
              "      <td>29.33</td>\n",
              "      <td>140.10</td>\n",
              "      <td>1265.0</td>\n",
              "      <td>0.11780</td>\n",
              "      <td>0.27700</td>\n",
              "      <td>0.35140</td>\n",
              "      <td>0.15200</td>\n",
              "      <td>0.2397</td>\n",
              "      <td>0.07016</td>\n",
              "      <td>...</td>\n",
              "      <td>39.42</td>\n",
              "      <td>184.60</td>\n",
              "      <td>1821.0</td>\n",
              "      <td>0.16500</td>\n",
              "      <td>0.86810</td>\n",
              "      <td>0.9387</td>\n",
              "      <td>0.2650</td>\n",
              "      <td>0.4087</td>\n",
              "      <td>0.12400</td>\n",
              "      <td>0</td>\n",
              "    </tr>\n",
              "    <tr>\n",
              "      <th>568</th>\n",
              "      <td>7.76</td>\n",
              "      <td>24.54</td>\n",
              "      <td>47.92</td>\n",
              "      <td>181.0</td>\n",
              "      <td>0.05263</td>\n",
              "      <td>0.04362</td>\n",
              "      <td>0.00000</td>\n",
              "      <td>0.00000</td>\n",
              "      <td>0.1587</td>\n",
              "      <td>0.05884</td>\n",
              "      <td>...</td>\n",
              "      <td>30.37</td>\n",
              "      <td>59.16</td>\n",
              "      <td>268.6</td>\n",
              "      <td>0.08996</td>\n",
              "      <td>0.06444</td>\n",
              "      <td>0.0000</td>\n",
              "      <td>0.0000</td>\n",
              "      <td>0.2871</td>\n",
              "      <td>0.07039</td>\n",
              "      <td>1</td>\n",
              "    </tr>\n",
              "  </tbody>\n",
              "</table>\n",
              "<p>5 rows × 31 columns</p>\n",
              "</div>\n",
              "      <button class=\"colab-df-convert\" onclick=\"convertToInteractive('df-202a423b-43d4-42b2-b7d5-54fe0cf03305')\"\n",
              "              title=\"Convert this dataframe to an interactive table.\"\n",
              "              style=\"display:none;\">\n",
              "        \n",
              "  <svg xmlns=\"http://www.w3.org/2000/svg\" height=\"24px\"viewBox=\"0 0 24 24\"\n",
              "       width=\"24px\">\n",
              "    <path d=\"M0 0h24v24H0V0z\" fill=\"none\"/>\n",
              "    <path d=\"M18.56 5.44l.94 2.06.94-2.06 2.06-.94-2.06-.94-.94-2.06-.94 2.06-2.06.94zm-11 1L8.5 8.5l.94-2.06 2.06-.94-2.06-.94L8.5 2.5l-.94 2.06-2.06.94zm10 10l.94 2.06.94-2.06 2.06-.94-2.06-.94-.94-2.06-.94 2.06-2.06.94z\"/><path d=\"M17.41 7.96l-1.37-1.37c-.4-.4-.92-.59-1.43-.59-.52 0-1.04.2-1.43.59L10.3 9.45l-7.72 7.72c-.78.78-.78 2.05 0 2.83L4 21.41c.39.39.9.59 1.41.59.51 0 1.02-.2 1.41-.59l7.78-7.78 2.81-2.81c.8-.78.8-2.07 0-2.86zM5.41 20L4 18.59l7.72-7.72 1.47 1.35L5.41 20z\"/>\n",
              "  </svg>\n",
              "      </button>\n",
              "      \n",
              "  <style>\n",
              "    .colab-df-container {\n",
              "      display:flex;\n",
              "      flex-wrap:wrap;\n",
              "      gap: 12px;\n",
              "    }\n",
              "\n",
              "    .colab-df-convert {\n",
              "      background-color: #E8F0FE;\n",
              "      border: none;\n",
              "      border-radius: 50%;\n",
              "      cursor: pointer;\n",
              "      display: none;\n",
              "      fill: #1967D2;\n",
              "      height: 32px;\n",
              "      padding: 0 0 0 0;\n",
              "      width: 32px;\n",
              "    }\n",
              "\n",
              "    .colab-df-convert:hover {\n",
              "      background-color: #E2EBFA;\n",
              "      box-shadow: 0px 1px 2px rgba(60, 64, 67, 0.3), 0px 1px 3px 1px rgba(60, 64, 67, 0.15);\n",
              "      fill: #174EA6;\n",
              "    }\n",
              "\n",
              "    [theme=dark] .colab-df-convert {\n",
              "      background-color: #3B4455;\n",
              "      fill: #D2E3FC;\n",
              "    }\n",
              "\n",
              "    [theme=dark] .colab-df-convert:hover {\n",
              "      background-color: #434B5C;\n",
              "      box-shadow: 0px 1px 3px 1px rgba(0, 0, 0, 0.15);\n",
              "      filter: drop-shadow(0px 1px 2px rgba(0, 0, 0, 0.3));\n",
              "      fill: #FFFFFF;\n",
              "    }\n",
              "  </style>\n",
              "\n",
              "      <script>\n",
              "        const buttonEl =\n",
              "          document.querySelector('#df-202a423b-43d4-42b2-b7d5-54fe0cf03305 button.colab-df-convert');\n",
              "        buttonEl.style.display =\n",
              "          google.colab.kernel.accessAllowed ? 'block' : 'none';\n",
              "\n",
              "        async function convertToInteractive(key) {\n",
              "          const element = document.querySelector('#df-202a423b-43d4-42b2-b7d5-54fe0cf03305');\n",
              "          const dataTable =\n",
              "            await google.colab.kernel.invokeFunction('convertToInteractive',\n",
              "                                                     [key], {});\n",
              "          if (!dataTable) return;\n",
              "\n",
              "          const docLinkHtml = 'Like what you see? Visit the ' +\n",
              "            '<a target=\"_blank\" href=https://colab.research.google.com/notebooks/data_table.ipynb>data table notebook</a>'\n",
              "            + ' to learn more about interactive tables.';\n",
              "          element.innerHTML = '';\n",
              "          dataTable['output_type'] = 'display_data';\n",
              "          await google.colab.output.renderOutput(dataTable, element);\n",
              "          const docLink = document.createElement('div');\n",
              "          docLink.innerHTML = docLinkHtml;\n",
              "          element.appendChild(docLink);\n",
              "        }\n",
              "      </script>\n",
              "    </div>\n",
              "  </div>\n",
              "  "
            ]
          },
          "metadata": {},
          "execution_count": 7
        }
      ]
    },
    {
      "cell_type": "code",
      "metadata": {
        "colab": {
          "base_uri": "https://localhost:8080/"
        },
        "id": "sw3wjdK6iwK4",
        "outputId": "100b6fb0-3b99-4f27-be59-22f95293fa02"
      },
      "source": [
        "# number of rows and columns in the dataset\n",
        "data_frame.shape"
      ],
      "execution_count": null,
      "outputs": [
        {
          "output_type": "execute_result",
          "data": {
            "text/plain": [
              "(569, 31)"
            ]
          },
          "metadata": {},
          "execution_count": 8
        }
      ]
    },
    {
      "cell_type": "code",
      "metadata": {
        "colab": {
          "base_uri": "https://localhost:8080/"
        },
        "id": "AWOjMuyBi77M",
        "outputId": "5bf482dc-e220-481d-f97f-f1a8201439ec"
      },
      "source": [
        "# getting some information about the data\n",
        "data_frame.info()"
      ],
      "execution_count": null,
      "outputs": [
        {
          "output_type": "stream",
          "name": "stdout",
          "text": [
            "<class 'pandas.core.frame.DataFrame'>\n",
            "RangeIndex: 569 entries, 0 to 568\n",
            "Data columns (total 31 columns):\n",
            " #   Column                   Non-Null Count  Dtype  \n",
            "---  ------                   --------------  -----  \n",
            " 0   mean radius              569 non-null    float64\n",
            " 1   mean texture             569 non-null    float64\n",
            " 2   mean perimeter           569 non-null    float64\n",
            " 3   mean area                569 non-null    float64\n",
            " 4   mean smoothness          569 non-null    float64\n",
            " 5   mean compactness         569 non-null    float64\n",
            " 6   mean concavity           569 non-null    float64\n",
            " 7   mean concave points      569 non-null    float64\n",
            " 8   mean symmetry            569 non-null    float64\n",
            " 9   mean fractal dimension   569 non-null    float64\n",
            " 10  radius error             569 non-null    float64\n",
            " 11  texture error            569 non-null    float64\n",
            " 12  perimeter error          569 non-null    float64\n",
            " 13  area error               569 non-null    float64\n",
            " 14  smoothness error         569 non-null    float64\n",
            " 15  compactness error        569 non-null    float64\n",
            " 16  concavity error          569 non-null    float64\n",
            " 17  concave points error     569 non-null    float64\n",
            " 18  symmetry error           569 non-null    float64\n",
            " 19  fractal dimension error  569 non-null    float64\n",
            " 20  worst radius             569 non-null    float64\n",
            " 21  worst texture            569 non-null    float64\n",
            " 22  worst perimeter          569 non-null    float64\n",
            " 23  worst area               569 non-null    float64\n",
            " 24  worst smoothness         569 non-null    float64\n",
            " 25  worst compactness        569 non-null    float64\n",
            " 26  worst concavity          569 non-null    float64\n",
            " 27  worst concave points     569 non-null    float64\n",
            " 28  worst symmetry           569 non-null    float64\n",
            " 29  worst fractal dimension  569 non-null    float64\n",
            " 30  label                    569 non-null    int64  \n",
            "dtypes: float64(30), int64(1)\n",
            "memory usage: 137.9 KB\n"
          ]
        }
      ]
    },
    {
      "cell_type": "code",
      "metadata": {
        "colab": {
          "base_uri": "https://localhost:8080/"
        },
        "id": "RuoVIUTYjLpk",
        "outputId": "f8378dff-6c4b-44f2-e404-64ebcb2239f5"
      },
      "source": [
        "# checking for missing values\n",
        "data_frame.isnull().sum()"
      ],
      "execution_count": null,
      "outputs": [
        {
          "output_type": "execute_result",
          "data": {
            "text/plain": [
              "mean radius                0\n",
              "mean texture               0\n",
              "mean perimeter             0\n",
              "mean area                  0\n",
              "mean smoothness            0\n",
              "mean compactness           0\n",
              "mean concavity             0\n",
              "mean concave points        0\n",
              "mean symmetry              0\n",
              "mean fractal dimension     0\n",
              "radius error               0\n",
              "texture error              0\n",
              "perimeter error            0\n",
              "area error                 0\n",
              "smoothness error           0\n",
              "compactness error          0\n",
              "concavity error            0\n",
              "concave points error       0\n",
              "symmetry error             0\n",
              "fractal dimension error    0\n",
              "worst radius               0\n",
              "worst texture              0\n",
              "worst perimeter            0\n",
              "worst area                 0\n",
              "worst smoothness           0\n",
              "worst compactness          0\n",
              "worst concavity            0\n",
              "worst concave points       0\n",
              "worst symmetry             0\n",
              "worst fractal dimension    0\n",
              "label                      0\n",
              "dtype: int64"
            ]
          },
          "metadata": {},
          "execution_count": 10
        }
      ]
    },
    {
      "cell_type": "code",
      "metadata": {
        "colab": {
          "base_uri": "https://localhost:8080/",
          "height": 428
        },
        "id": "oLMuXI33jlkq",
        "outputId": "c82a5101-fd57-483c-8677-b137207e20ba"
      },
      "source": [
        "# statistical measures about the data\n",
        "data_frame.describe()"
      ],
      "execution_count": null,
      "outputs": [
        {
          "output_type": "execute_result",
          "data": {
            "text/plain": [
              "       mean radius  mean texture  mean perimeter    mean area  \\\n",
              "count   569.000000    569.000000      569.000000   569.000000   \n",
              "mean     14.127292     19.289649       91.969033   654.889104   \n",
              "std       3.524049      4.301036       24.298981   351.914129   \n",
              "min       6.981000      9.710000       43.790000   143.500000   \n",
              "25%      11.700000     16.170000       75.170000   420.300000   \n",
              "50%      13.370000     18.840000       86.240000   551.100000   \n",
              "75%      15.780000     21.800000      104.100000   782.700000   \n",
              "max      28.110000     39.280000      188.500000  2501.000000   \n",
              "\n",
              "       mean smoothness  mean compactness  mean concavity  mean concave points  \\\n",
              "count       569.000000        569.000000      569.000000           569.000000   \n",
              "mean          0.096360          0.104341        0.088799             0.048919   \n",
              "std           0.014064          0.052813        0.079720             0.038803   \n",
              "min           0.052630          0.019380        0.000000             0.000000   \n",
              "25%           0.086370          0.064920        0.029560             0.020310   \n",
              "50%           0.095870          0.092630        0.061540             0.033500   \n",
              "75%           0.105300          0.130400        0.130700             0.074000   \n",
              "max           0.163400          0.345400        0.426800             0.201200   \n",
              "\n",
              "       mean symmetry  mean fractal dimension  ...  worst texture  \\\n",
              "count     569.000000              569.000000  ...     569.000000   \n",
              "mean        0.181162                0.062798  ...      25.677223   \n",
              "std         0.027414                0.007060  ...       6.146258   \n",
              "min         0.106000                0.049960  ...      12.020000   \n",
              "25%         0.161900                0.057700  ...      21.080000   \n",
              "50%         0.179200                0.061540  ...      25.410000   \n",
              "75%         0.195700                0.066120  ...      29.720000   \n",
              "max         0.304000                0.097440  ...      49.540000   \n",
              "\n",
              "       worst perimeter   worst area  worst smoothness  worst compactness  \\\n",
              "count       569.000000   569.000000        569.000000         569.000000   \n",
              "mean        107.261213   880.583128          0.132369           0.254265   \n",
              "std          33.602542   569.356993          0.022832           0.157336   \n",
              "min          50.410000   185.200000          0.071170           0.027290   \n",
              "25%          84.110000   515.300000          0.116600           0.147200   \n",
              "50%          97.660000   686.500000          0.131300           0.211900   \n",
              "75%         125.400000  1084.000000          0.146000           0.339100   \n",
              "max         251.200000  4254.000000          0.222600           1.058000   \n",
              "\n",
              "       worst concavity  worst concave points  worst symmetry  \\\n",
              "count       569.000000            569.000000      569.000000   \n",
              "mean          0.272188              0.114606        0.290076   \n",
              "std           0.208624              0.065732        0.061867   \n",
              "min           0.000000              0.000000        0.156500   \n",
              "25%           0.114500              0.064930        0.250400   \n",
              "50%           0.226700              0.099930        0.282200   \n",
              "75%           0.382900              0.161400        0.317900   \n",
              "max           1.252000              0.291000        0.663800   \n",
              "\n",
              "       worst fractal dimension       label  \n",
              "count               569.000000  569.000000  \n",
              "mean                  0.083946    0.627417  \n",
              "std                   0.018061    0.483918  \n",
              "min                   0.055040    0.000000  \n",
              "25%                   0.071460    0.000000  \n",
              "50%                   0.080040    1.000000  \n",
              "75%                   0.092080    1.000000  \n",
              "max                   0.207500    1.000000  \n",
              "\n",
              "[8 rows x 31 columns]"
            ],
            "text/html": [
              "\n",
              "  <div id=\"df-ab75484c-5600-440c-aac0-fd108fdb435c\">\n",
              "    <div class=\"colab-df-container\">\n",
              "      <div>\n",
              "<style scoped>\n",
              "    .dataframe tbody tr th:only-of-type {\n",
              "        vertical-align: middle;\n",
              "    }\n",
              "\n",
              "    .dataframe tbody tr th {\n",
              "        vertical-align: top;\n",
              "    }\n",
              "\n",
              "    .dataframe thead th {\n",
              "        text-align: right;\n",
              "    }\n",
              "</style>\n",
              "<table border=\"1\" class=\"dataframe\">\n",
              "  <thead>\n",
              "    <tr style=\"text-align: right;\">\n",
              "      <th></th>\n",
              "      <th>mean radius</th>\n",
              "      <th>mean texture</th>\n",
              "      <th>mean perimeter</th>\n",
              "      <th>mean area</th>\n",
              "      <th>mean smoothness</th>\n",
              "      <th>mean compactness</th>\n",
              "      <th>mean concavity</th>\n",
              "      <th>mean concave points</th>\n",
              "      <th>mean symmetry</th>\n",
              "      <th>mean fractal dimension</th>\n",
              "      <th>...</th>\n",
              "      <th>worst texture</th>\n",
              "      <th>worst perimeter</th>\n",
              "      <th>worst area</th>\n",
              "      <th>worst smoothness</th>\n",
              "      <th>worst compactness</th>\n",
              "      <th>worst concavity</th>\n",
              "      <th>worst concave points</th>\n",
              "      <th>worst symmetry</th>\n",
              "      <th>worst fractal dimension</th>\n",
              "      <th>label</th>\n",
              "    </tr>\n",
              "  </thead>\n",
              "  <tbody>\n",
              "    <tr>\n",
              "      <th>count</th>\n",
              "      <td>569.000000</td>\n",
              "      <td>569.000000</td>\n",
              "      <td>569.000000</td>\n",
              "      <td>569.000000</td>\n",
              "      <td>569.000000</td>\n",
              "      <td>569.000000</td>\n",
              "      <td>569.000000</td>\n",
              "      <td>569.000000</td>\n",
              "      <td>569.000000</td>\n",
              "      <td>569.000000</td>\n",
              "      <td>...</td>\n",
              "      <td>569.000000</td>\n",
              "      <td>569.000000</td>\n",
              "      <td>569.000000</td>\n",
              "      <td>569.000000</td>\n",
              "      <td>569.000000</td>\n",
              "      <td>569.000000</td>\n",
              "      <td>569.000000</td>\n",
              "      <td>569.000000</td>\n",
              "      <td>569.000000</td>\n",
              "      <td>569.000000</td>\n",
              "    </tr>\n",
              "    <tr>\n",
              "      <th>mean</th>\n",
              "      <td>14.127292</td>\n",
              "      <td>19.289649</td>\n",
              "      <td>91.969033</td>\n",
              "      <td>654.889104</td>\n",
              "      <td>0.096360</td>\n",
              "      <td>0.104341</td>\n",
              "      <td>0.088799</td>\n",
              "      <td>0.048919</td>\n",
              "      <td>0.181162</td>\n",
              "      <td>0.062798</td>\n",
              "      <td>...</td>\n",
              "      <td>25.677223</td>\n",
              "      <td>107.261213</td>\n",
              "      <td>880.583128</td>\n",
              "      <td>0.132369</td>\n",
              "      <td>0.254265</td>\n",
              "      <td>0.272188</td>\n",
              "      <td>0.114606</td>\n",
              "      <td>0.290076</td>\n",
              "      <td>0.083946</td>\n",
              "      <td>0.627417</td>\n",
              "    </tr>\n",
              "    <tr>\n",
              "      <th>std</th>\n",
              "      <td>3.524049</td>\n",
              "      <td>4.301036</td>\n",
              "      <td>24.298981</td>\n",
              "      <td>351.914129</td>\n",
              "      <td>0.014064</td>\n",
              "      <td>0.052813</td>\n",
              "      <td>0.079720</td>\n",
              "      <td>0.038803</td>\n",
              "      <td>0.027414</td>\n",
              "      <td>0.007060</td>\n",
              "      <td>...</td>\n",
              "      <td>6.146258</td>\n",
              "      <td>33.602542</td>\n",
              "      <td>569.356993</td>\n",
              "      <td>0.022832</td>\n",
              "      <td>0.157336</td>\n",
              "      <td>0.208624</td>\n",
              "      <td>0.065732</td>\n",
              "      <td>0.061867</td>\n",
              "      <td>0.018061</td>\n",
              "      <td>0.483918</td>\n",
              "    </tr>\n",
              "    <tr>\n",
              "      <th>min</th>\n",
              "      <td>6.981000</td>\n",
              "      <td>9.710000</td>\n",
              "      <td>43.790000</td>\n",
              "      <td>143.500000</td>\n",
              "      <td>0.052630</td>\n",
              "      <td>0.019380</td>\n",
              "      <td>0.000000</td>\n",
              "      <td>0.000000</td>\n",
              "      <td>0.106000</td>\n",
              "      <td>0.049960</td>\n",
              "      <td>...</td>\n",
              "      <td>12.020000</td>\n",
              "      <td>50.410000</td>\n",
              "      <td>185.200000</td>\n",
              "      <td>0.071170</td>\n",
              "      <td>0.027290</td>\n",
              "      <td>0.000000</td>\n",
              "      <td>0.000000</td>\n",
              "      <td>0.156500</td>\n",
              "      <td>0.055040</td>\n",
              "      <td>0.000000</td>\n",
              "    </tr>\n",
              "    <tr>\n",
              "      <th>25%</th>\n",
              "      <td>11.700000</td>\n",
              "      <td>16.170000</td>\n",
              "      <td>75.170000</td>\n",
              "      <td>420.300000</td>\n",
              "      <td>0.086370</td>\n",
              "      <td>0.064920</td>\n",
              "      <td>0.029560</td>\n",
              "      <td>0.020310</td>\n",
              "      <td>0.161900</td>\n",
              "      <td>0.057700</td>\n",
              "      <td>...</td>\n",
              "      <td>21.080000</td>\n",
              "      <td>84.110000</td>\n",
              "      <td>515.300000</td>\n",
              "      <td>0.116600</td>\n",
              "      <td>0.147200</td>\n",
              "      <td>0.114500</td>\n",
              "      <td>0.064930</td>\n",
              "      <td>0.250400</td>\n",
              "      <td>0.071460</td>\n",
              "      <td>0.000000</td>\n",
              "    </tr>\n",
              "    <tr>\n",
              "      <th>50%</th>\n",
              "      <td>13.370000</td>\n",
              "      <td>18.840000</td>\n",
              "      <td>86.240000</td>\n",
              "      <td>551.100000</td>\n",
              "      <td>0.095870</td>\n",
              "      <td>0.092630</td>\n",
              "      <td>0.061540</td>\n",
              "      <td>0.033500</td>\n",
              "      <td>0.179200</td>\n",
              "      <td>0.061540</td>\n",
              "      <td>...</td>\n",
              "      <td>25.410000</td>\n",
              "      <td>97.660000</td>\n",
              "      <td>686.500000</td>\n",
              "      <td>0.131300</td>\n",
              "      <td>0.211900</td>\n",
              "      <td>0.226700</td>\n",
              "      <td>0.099930</td>\n",
              "      <td>0.282200</td>\n",
              "      <td>0.080040</td>\n",
              "      <td>1.000000</td>\n",
              "    </tr>\n",
              "    <tr>\n",
              "      <th>75%</th>\n",
              "      <td>15.780000</td>\n",
              "      <td>21.800000</td>\n",
              "      <td>104.100000</td>\n",
              "      <td>782.700000</td>\n",
              "      <td>0.105300</td>\n",
              "      <td>0.130400</td>\n",
              "      <td>0.130700</td>\n",
              "      <td>0.074000</td>\n",
              "      <td>0.195700</td>\n",
              "      <td>0.066120</td>\n",
              "      <td>...</td>\n",
              "      <td>29.720000</td>\n",
              "      <td>125.400000</td>\n",
              "      <td>1084.000000</td>\n",
              "      <td>0.146000</td>\n",
              "      <td>0.339100</td>\n",
              "      <td>0.382900</td>\n",
              "      <td>0.161400</td>\n",
              "      <td>0.317900</td>\n",
              "      <td>0.092080</td>\n",
              "      <td>1.000000</td>\n",
              "    </tr>\n",
              "    <tr>\n",
              "      <th>max</th>\n",
              "      <td>28.110000</td>\n",
              "      <td>39.280000</td>\n",
              "      <td>188.500000</td>\n",
              "      <td>2501.000000</td>\n",
              "      <td>0.163400</td>\n",
              "      <td>0.345400</td>\n",
              "      <td>0.426800</td>\n",
              "      <td>0.201200</td>\n",
              "      <td>0.304000</td>\n",
              "      <td>0.097440</td>\n",
              "      <td>...</td>\n",
              "      <td>49.540000</td>\n",
              "      <td>251.200000</td>\n",
              "      <td>4254.000000</td>\n",
              "      <td>0.222600</td>\n",
              "      <td>1.058000</td>\n",
              "      <td>1.252000</td>\n",
              "      <td>0.291000</td>\n",
              "      <td>0.663800</td>\n",
              "      <td>0.207500</td>\n",
              "      <td>1.000000</td>\n",
              "    </tr>\n",
              "  </tbody>\n",
              "</table>\n",
              "<p>8 rows × 31 columns</p>\n",
              "</div>\n",
              "      <button class=\"colab-df-convert\" onclick=\"convertToInteractive('df-ab75484c-5600-440c-aac0-fd108fdb435c')\"\n",
              "              title=\"Convert this dataframe to an interactive table.\"\n",
              "              style=\"display:none;\">\n",
              "        \n",
              "  <svg xmlns=\"http://www.w3.org/2000/svg\" height=\"24px\"viewBox=\"0 0 24 24\"\n",
              "       width=\"24px\">\n",
              "    <path d=\"M0 0h24v24H0V0z\" fill=\"none\"/>\n",
              "    <path d=\"M18.56 5.44l.94 2.06.94-2.06 2.06-.94-2.06-.94-.94-2.06-.94 2.06-2.06.94zm-11 1L8.5 8.5l.94-2.06 2.06-.94-2.06-.94L8.5 2.5l-.94 2.06-2.06.94zm10 10l.94 2.06.94-2.06 2.06-.94-2.06-.94-.94-2.06-.94 2.06-2.06.94z\"/><path d=\"M17.41 7.96l-1.37-1.37c-.4-.4-.92-.59-1.43-.59-.52 0-1.04.2-1.43.59L10.3 9.45l-7.72 7.72c-.78.78-.78 2.05 0 2.83L4 21.41c.39.39.9.59 1.41.59.51 0 1.02-.2 1.41-.59l7.78-7.78 2.81-2.81c.8-.78.8-2.07 0-2.86zM5.41 20L4 18.59l7.72-7.72 1.47 1.35L5.41 20z\"/>\n",
              "  </svg>\n",
              "      </button>\n",
              "      \n",
              "  <style>\n",
              "    .colab-df-container {\n",
              "      display:flex;\n",
              "      flex-wrap:wrap;\n",
              "      gap: 12px;\n",
              "    }\n",
              "\n",
              "    .colab-df-convert {\n",
              "      background-color: #E8F0FE;\n",
              "      border: none;\n",
              "      border-radius: 50%;\n",
              "      cursor: pointer;\n",
              "      display: none;\n",
              "      fill: #1967D2;\n",
              "      height: 32px;\n",
              "      padding: 0 0 0 0;\n",
              "      width: 32px;\n",
              "    }\n",
              "\n",
              "    .colab-df-convert:hover {\n",
              "      background-color: #E2EBFA;\n",
              "      box-shadow: 0px 1px 2px rgba(60, 64, 67, 0.3), 0px 1px 3px 1px rgba(60, 64, 67, 0.15);\n",
              "      fill: #174EA6;\n",
              "    }\n",
              "\n",
              "    [theme=dark] .colab-df-convert {\n",
              "      background-color: #3B4455;\n",
              "      fill: #D2E3FC;\n",
              "    }\n",
              "\n",
              "    [theme=dark] .colab-df-convert:hover {\n",
              "      background-color: #434B5C;\n",
              "      box-shadow: 0px 1px 3px 1px rgba(0, 0, 0, 0.15);\n",
              "      filter: drop-shadow(0px 1px 2px rgba(0, 0, 0, 0.3));\n",
              "      fill: #FFFFFF;\n",
              "    }\n",
              "  </style>\n",
              "\n",
              "      <script>\n",
              "        const buttonEl =\n",
              "          document.querySelector('#df-ab75484c-5600-440c-aac0-fd108fdb435c button.colab-df-convert');\n",
              "        buttonEl.style.display =\n",
              "          google.colab.kernel.accessAllowed ? 'block' : 'none';\n",
              "\n",
              "        async function convertToInteractive(key) {\n",
              "          const element = document.querySelector('#df-ab75484c-5600-440c-aac0-fd108fdb435c');\n",
              "          const dataTable =\n",
              "            await google.colab.kernel.invokeFunction('convertToInteractive',\n",
              "                                                     [key], {});\n",
              "          if (!dataTable) return;\n",
              "\n",
              "          const docLinkHtml = 'Like what you see? Visit the ' +\n",
              "            '<a target=\"_blank\" href=https://colab.research.google.com/notebooks/data_table.ipynb>data table notebook</a>'\n",
              "            + ' to learn more about interactive tables.';\n",
              "          element.innerHTML = '';\n",
              "          dataTable['output_type'] = 'display_data';\n",
              "          await google.colab.output.renderOutput(dataTable, element);\n",
              "          const docLink = document.createElement('div');\n",
              "          docLink.innerHTML = docLinkHtml;\n",
              "          element.appendChild(docLink);\n",
              "        }\n",
              "      </script>\n",
              "    </div>\n",
              "  </div>\n",
              "  "
            ]
          },
          "metadata": {},
          "execution_count": 11
        }
      ]
    },
    {
      "cell_type": "code",
      "metadata": {
        "colab": {
          "base_uri": "https://localhost:8080/"
        },
        "id": "tC8Yii4Yjzer",
        "outputId": "5285ac28-0999-44a9-b6a6-95f04bfb3817"
      },
      "source": [
        "# checking the distribution of Target Varibale\n",
        "data_frame['label'].value_counts()"
      ],
      "execution_count": null,
      "outputs": [
        {
          "output_type": "execute_result",
          "data": {
            "text/plain": [
              "1    357\n",
              "0    212\n",
              "Name: label, dtype: int64"
            ]
          },
          "metadata": {},
          "execution_count": 12
        }
      ]
    },
    {
      "cell_type": "markdown",
      "metadata": {
        "id": "HbbkzWeFkjqc"
      },
      "source": [
        "1 --> Benign\n",
        "\n",
        "0 --> Malignant"
      ]
    },
    {
      "cell_type": "code",
      "metadata": {
        "colab": {
          "base_uri": "https://localhost:8080/",
          "height": 252
        },
        "id": "YGWHjrVSkN5c",
        "outputId": "78df49c7-9814-4045-fcaa-2f2be490ff86"
      },
      "source": [
        "data_frame.groupby('label').mean()"
      ],
      "execution_count": null,
      "outputs": [
        {
          "output_type": "execute_result",
          "data": {
            "text/plain": [
              "       mean radius  mean texture  mean perimeter   mean area  mean smoothness  \\\n",
              "label                                                                           \n",
              "0        17.462830     21.604906      115.365377  978.376415         0.102898   \n",
              "1        12.146524     17.914762       78.075406  462.790196         0.092478   \n",
              "\n",
              "       mean compactness  mean concavity  mean concave points  mean symmetry  \\\n",
              "label                                                                         \n",
              "0              0.145188        0.160775             0.087990       0.192909   \n",
              "1              0.080085        0.046058             0.025717       0.174186   \n",
              "\n",
              "       mean fractal dimension  ...  worst radius  worst texture  \\\n",
              "label                          ...                                \n",
              "0                    0.062680  ...     21.134811      29.318208   \n",
              "1                    0.062867  ...     13.379801      23.515070   \n",
              "\n",
              "       worst perimeter   worst area  worst smoothness  worst compactness  \\\n",
              "label                                                                      \n",
              "0           141.370330  1422.286321          0.144845           0.374824   \n",
              "1            87.005938   558.899440          0.124959           0.182673   \n",
              "\n",
              "       worst concavity  worst concave points  worst symmetry  \\\n",
              "label                                                          \n",
              "0             0.450606              0.182237        0.323468   \n",
              "1             0.166238              0.074444        0.270246   \n",
              "\n",
              "       worst fractal dimension  \n",
              "label                           \n",
              "0                     0.091530  \n",
              "1                     0.079442  \n",
              "\n",
              "[2 rows x 30 columns]"
            ],
            "text/html": [
              "\n",
              "  <div id=\"df-29cf62db-d02f-4c2c-ac0c-33bca5cf47e4\">\n",
              "    <div class=\"colab-df-container\">\n",
              "      <div>\n",
              "<style scoped>\n",
              "    .dataframe tbody tr th:only-of-type {\n",
              "        vertical-align: middle;\n",
              "    }\n",
              "\n",
              "    .dataframe tbody tr th {\n",
              "        vertical-align: top;\n",
              "    }\n",
              "\n",
              "    .dataframe thead th {\n",
              "        text-align: right;\n",
              "    }\n",
              "</style>\n",
              "<table border=\"1\" class=\"dataframe\">\n",
              "  <thead>\n",
              "    <tr style=\"text-align: right;\">\n",
              "      <th></th>\n",
              "      <th>mean radius</th>\n",
              "      <th>mean texture</th>\n",
              "      <th>mean perimeter</th>\n",
              "      <th>mean area</th>\n",
              "      <th>mean smoothness</th>\n",
              "      <th>mean compactness</th>\n",
              "      <th>mean concavity</th>\n",
              "      <th>mean concave points</th>\n",
              "      <th>mean symmetry</th>\n",
              "      <th>mean fractal dimension</th>\n",
              "      <th>...</th>\n",
              "      <th>worst radius</th>\n",
              "      <th>worst texture</th>\n",
              "      <th>worst perimeter</th>\n",
              "      <th>worst area</th>\n",
              "      <th>worst smoothness</th>\n",
              "      <th>worst compactness</th>\n",
              "      <th>worst concavity</th>\n",
              "      <th>worst concave points</th>\n",
              "      <th>worst symmetry</th>\n",
              "      <th>worst fractal dimension</th>\n",
              "    </tr>\n",
              "    <tr>\n",
              "      <th>label</th>\n",
              "      <th></th>\n",
              "      <th></th>\n",
              "      <th></th>\n",
              "      <th></th>\n",
              "      <th></th>\n",
              "      <th></th>\n",
              "      <th></th>\n",
              "      <th></th>\n",
              "      <th></th>\n",
              "      <th></th>\n",
              "      <th></th>\n",
              "      <th></th>\n",
              "      <th></th>\n",
              "      <th></th>\n",
              "      <th></th>\n",
              "      <th></th>\n",
              "      <th></th>\n",
              "      <th></th>\n",
              "      <th></th>\n",
              "      <th></th>\n",
              "      <th></th>\n",
              "    </tr>\n",
              "  </thead>\n",
              "  <tbody>\n",
              "    <tr>\n",
              "      <th>0</th>\n",
              "      <td>17.462830</td>\n",
              "      <td>21.604906</td>\n",
              "      <td>115.365377</td>\n",
              "      <td>978.376415</td>\n",
              "      <td>0.102898</td>\n",
              "      <td>0.145188</td>\n",
              "      <td>0.160775</td>\n",
              "      <td>0.087990</td>\n",
              "      <td>0.192909</td>\n",
              "      <td>0.062680</td>\n",
              "      <td>...</td>\n",
              "      <td>21.134811</td>\n",
              "      <td>29.318208</td>\n",
              "      <td>141.370330</td>\n",
              "      <td>1422.286321</td>\n",
              "      <td>0.144845</td>\n",
              "      <td>0.374824</td>\n",
              "      <td>0.450606</td>\n",
              "      <td>0.182237</td>\n",
              "      <td>0.323468</td>\n",
              "      <td>0.091530</td>\n",
              "    </tr>\n",
              "    <tr>\n",
              "      <th>1</th>\n",
              "      <td>12.146524</td>\n",
              "      <td>17.914762</td>\n",
              "      <td>78.075406</td>\n",
              "      <td>462.790196</td>\n",
              "      <td>0.092478</td>\n",
              "      <td>0.080085</td>\n",
              "      <td>0.046058</td>\n",
              "      <td>0.025717</td>\n",
              "      <td>0.174186</td>\n",
              "      <td>0.062867</td>\n",
              "      <td>...</td>\n",
              "      <td>13.379801</td>\n",
              "      <td>23.515070</td>\n",
              "      <td>87.005938</td>\n",
              "      <td>558.899440</td>\n",
              "      <td>0.124959</td>\n",
              "      <td>0.182673</td>\n",
              "      <td>0.166238</td>\n",
              "      <td>0.074444</td>\n",
              "      <td>0.270246</td>\n",
              "      <td>0.079442</td>\n",
              "    </tr>\n",
              "  </tbody>\n",
              "</table>\n",
              "<p>2 rows × 30 columns</p>\n",
              "</div>\n",
              "      <button class=\"colab-df-convert\" onclick=\"convertToInteractive('df-29cf62db-d02f-4c2c-ac0c-33bca5cf47e4')\"\n",
              "              title=\"Convert this dataframe to an interactive table.\"\n",
              "              style=\"display:none;\">\n",
              "        \n",
              "  <svg xmlns=\"http://www.w3.org/2000/svg\" height=\"24px\"viewBox=\"0 0 24 24\"\n",
              "       width=\"24px\">\n",
              "    <path d=\"M0 0h24v24H0V0z\" fill=\"none\"/>\n",
              "    <path d=\"M18.56 5.44l.94 2.06.94-2.06 2.06-.94-2.06-.94-.94-2.06-.94 2.06-2.06.94zm-11 1L8.5 8.5l.94-2.06 2.06-.94-2.06-.94L8.5 2.5l-.94 2.06-2.06.94zm10 10l.94 2.06.94-2.06 2.06-.94-2.06-.94-.94-2.06-.94 2.06-2.06.94z\"/><path d=\"M17.41 7.96l-1.37-1.37c-.4-.4-.92-.59-1.43-.59-.52 0-1.04.2-1.43.59L10.3 9.45l-7.72 7.72c-.78.78-.78 2.05 0 2.83L4 21.41c.39.39.9.59 1.41.59.51 0 1.02-.2 1.41-.59l7.78-7.78 2.81-2.81c.8-.78.8-2.07 0-2.86zM5.41 20L4 18.59l7.72-7.72 1.47 1.35L5.41 20z\"/>\n",
              "  </svg>\n",
              "      </button>\n",
              "      \n",
              "  <style>\n",
              "    .colab-df-container {\n",
              "      display:flex;\n",
              "      flex-wrap:wrap;\n",
              "      gap: 12px;\n",
              "    }\n",
              "\n",
              "    .colab-df-convert {\n",
              "      background-color: #E8F0FE;\n",
              "      border: none;\n",
              "      border-radius: 50%;\n",
              "      cursor: pointer;\n",
              "      display: none;\n",
              "      fill: #1967D2;\n",
              "      height: 32px;\n",
              "      padding: 0 0 0 0;\n",
              "      width: 32px;\n",
              "    }\n",
              "\n",
              "    .colab-df-convert:hover {\n",
              "      background-color: #E2EBFA;\n",
              "      box-shadow: 0px 1px 2px rgba(60, 64, 67, 0.3), 0px 1px 3px 1px rgba(60, 64, 67, 0.15);\n",
              "      fill: #174EA6;\n",
              "    }\n",
              "\n",
              "    [theme=dark] .colab-df-convert {\n",
              "      background-color: #3B4455;\n",
              "      fill: #D2E3FC;\n",
              "    }\n",
              "\n",
              "    [theme=dark] .colab-df-convert:hover {\n",
              "      background-color: #434B5C;\n",
              "      box-shadow: 0px 1px 3px 1px rgba(0, 0, 0, 0.15);\n",
              "      filter: drop-shadow(0px 1px 2px rgba(0, 0, 0, 0.3));\n",
              "      fill: #FFFFFF;\n",
              "    }\n",
              "  </style>\n",
              "\n",
              "      <script>\n",
              "        const buttonEl =\n",
              "          document.querySelector('#df-29cf62db-d02f-4c2c-ac0c-33bca5cf47e4 button.colab-df-convert');\n",
              "        buttonEl.style.display =\n",
              "          google.colab.kernel.accessAllowed ? 'block' : 'none';\n",
              "\n",
              "        async function convertToInteractive(key) {\n",
              "          const element = document.querySelector('#df-29cf62db-d02f-4c2c-ac0c-33bca5cf47e4');\n",
              "          const dataTable =\n",
              "            await google.colab.kernel.invokeFunction('convertToInteractive',\n",
              "                                                     [key], {});\n",
              "          if (!dataTable) return;\n",
              "\n",
              "          const docLinkHtml = 'Like what you see? Visit the ' +\n",
              "            '<a target=\"_blank\" href=https://colab.research.google.com/notebooks/data_table.ipynb>data table notebook</a>'\n",
              "            + ' to learn more about interactive tables.';\n",
              "          element.innerHTML = '';\n",
              "          dataTable['output_type'] = 'display_data';\n",
              "          await google.colab.output.renderOutput(dataTable, element);\n",
              "          const docLink = document.createElement('div');\n",
              "          docLink.innerHTML = docLinkHtml;\n",
              "          element.appendChild(docLink);\n",
              "        }\n",
              "      </script>\n",
              "    </div>\n",
              "  </div>\n",
              "  "
            ]
          },
          "metadata": {},
          "execution_count": 13
        }
      ]
    },
    {
      "cell_type": "markdown",
      "metadata": {
        "id": "tUPYps4DlVFR"
      },
      "source": [
        "Separating the features and target"
      ]
    },
    {
      "cell_type": "code",
      "metadata": {
        "id": "Z5pD8rP5kzKD"
      },
      "source": [
        "X = data_frame.drop(columns='label', axis=1)\n",
        "Y = data_frame['label']"
      ],
      "execution_count": null,
      "outputs": []
    },
    {
      "cell_type": "code",
      "metadata": {
        "colab": {
          "base_uri": "https://localhost:8080/"
        },
        "id": "Z-GWJHpAlpWJ",
        "outputId": "4aa1d88b-8c9f-4645-faf3-3175353b1c7d"
      },
      "source": [
        "print(X)"
      ],
      "execution_count": null,
      "outputs": [
        {
          "output_type": "stream",
          "name": "stdout",
          "text": [
            "     mean radius  mean texture  mean perimeter  mean area  mean smoothness  \\\n",
            "0          17.99         10.38          122.80     1001.0          0.11840   \n",
            "1          20.57         17.77          132.90     1326.0          0.08474   \n",
            "2          19.69         21.25          130.00     1203.0          0.10960   \n",
            "3          11.42         20.38           77.58      386.1          0.14250   \n",
            "4          20.29         14.34          135.10     1297.0          0.10030   \n",
            "..           ...           ...             ...        ...              ...   \n",
            "564        21.56         22.39          142.00     1479.0          0.11100   \n",
            "565        20.13         28.25          131.20     1261.0          0.09780   \n",
            "566        16.60         28.08          108.30      858.1          0.08455   \n",
            "567        20.60         29.33          140.10     1265.0          0.11780   \n",
            "568         7.76         24.54           47.92      181.0          0.05263   \n",
            "\n",
            "     mean compactness  mean concavity  mean concave points  mean symmetry  \\\n",
            "0             0.27760         0.30010              0.14710         0.2419   \n",
            "1             0.07864         0.08690              0.07017         0.1812   \n",
            "2             0.15990         0.19740              0.12790         0.2069   \n",
            "3             0.28390         0.24140              0.10520         0.2597   \n",
            "4             0.13280         0.19800              0.10430         0.1809   \n",
            "..                ...             ...                  ...            ...   \n",
            "564           0.11590         0.24390              0.13890         0.1726   \n",
            "565           0.10340         0.14400              0.09791         0.1752   \n",
            "566           0.10230         0.09251              0.05302         0.1590   \n",
            "567           0.27700         0.35140              0.15200         0.2397   \n",
            "568           0.04362         0.00000              0.00000         0.1587   \n",
            "\n",
            "     mean fractal dimension  ...  worst radius  worst texture  \\\n",
            "0                   0.07871  ...        25.380          17.33   \n",
            "1                   0.05667  ...        24.990          23.41   \n",
            "2                   0.05999  ...        23.570          25.53   \n",
            "3                   0.09744  ...        14.910          26.50   \n",
            "4                   0.05883  ...        22.540          16.67   \n",
            "..                      ...  ...           ...            ...   \n",
            "564                 0.05623  ...        25.450          26.40   \n",
            "565                 0.05533  ...        23.690          38.25   \n",
            "566                 0.05648  ...        18.980          34.12   \n",
            "567                 0.07016  ...        25.740          39.42   \n",
            "568                 0.05884  ...         9.456          30.37   \n",
            "\n",
            "     worst perimeter  worst area  worst smoothness  worst compactness  \\\n",
            "0             184.60      2019.0           0.16220            0.66560   \n",
            "1             158.80      1956.0           0.12380            0.18660   \n",
            "2             152.50      1709.0           0.14440            0.42450   \n",
            "3              98.87       567.7           0.20980            0.86630   \n",
            "4             152.20      1575.0           0.13740            0.20500   \n",
            "..               ...         ...               ...                ...   \n",
            "564           166.10      2027.0           0.14100            0.21130   \n",
            "565           155.00      1731.0           0.11660            0.19220   \n",
            "566           126.70      1124.0           0.11390            0.30940   \n",
            "567           184.60      1821.0           0.16500            0.86810   \n",
            "568            59.16       268.6           0.08996            0.06444   \n",
            "\n",
            "     worst concavity  worst concave points  worst symmetry  \\\n",
            "0             0.7119                0.2654          0.4601   \n",
            "1             0.2416                0.1860          0.2750   \n",
            "2             0.4504                0.2430          0.3613   \n",
            "3             0.6869                0.2575          0.6638   \n",
            "4             0.4000                0.1625          0.2364   \n",
            "..               ...                   ...             ...   \n",
            "564           0.4107                0.2216          0.2060   \n",
            "565           0.3215                0.1628          0.2572   \n",
            "566           0.3403                0.1418          0.2218   \n",
            "567           0.9387                0.2650          0.4087   \n",
            "568           0.0000                0.0000          0.2871   \n",
            "\n",
            "     worst fractal dimension  \n",
            "0                    0.11890  \n",
            "1                    0.08902  \n",
            "2                    0.08758  \n",
            "3                    0.17300  \n",
            "4                    0.07678  \n",
            "..                       ...  \n",
            "564                  0.07115  \n",
            "565                  0.06637  \n",
            "566                  0.07820  \n",
            "567                  0.12400  \n",
            "568                  0.07039  \n",
            "\n",
            "[569 rows x 30 columns]\n"
          ]
        }
      ]
    },
    {
      "cell_type": "code",
      "metadata": {
        "colab": {
          "base_uri": "https://localhost:8080/"
        },
        "id": "r5rs8pColqsn",
        "outputId": "84eae7d8-fc5c-40ca-a162-c289c50b450e"
      },
      "source": [
        "print(Y)"
      ],
      "execution_count": null,
      "outputs": [
        {
          "output_type": "stream",
          "name": "stdout",
          "text": [
            "0      0\n",
            "1      0\n",
            "2      0\n",
            "3      0\n",
            "4      0\n",
            "      ..\n",
            "564    0\n",
            "565    0\n",
            "566    0\n",
            "567    0\n",
            "568    1\n",
            "Name: label, Length: 569, dtype: int64\n"
          ]
        }
      ]
    },
    {
      "cell_type": "markdown",
      "metadata": {
        "id": "B5yk9d-Nl4VV"
      },
      "source": [
        "Splitting the data into training data & Testing data"
      ]
    },
    {
      "cell_type": "code",
      "metadata": {
        "id": "vZtU30bPluG_"
      },
      "source": [
        "X_train, X_test, Y_train, Y_test = train_test_split(X, Y, test_size=0.2, random_state=2)"
      ],
      "execution_count": null,
      "outputs": []
    },
    {
      "cell_type": "code",
      "metadata": {
        "colab": {
          "base_uri": "https://localhost:8080/"
        },
        "id": "zWaeuX3amqYH",
        "outputId": "30f51366-e2ec-4306-db3e-7099afa60af3"
      },
      "source": [
        "print(X.shape, X_train.shape, X_test.shape)"
      ],
      "execution_count": null,
      "outputs": [
        {
          "output_type": "stream",
          "name": "stdout",
          "text": [
            "(569, 30) (455, 30) (114, 30)\n"
          ]
        }
      ]
    },
    {
      "cell_type": "markdown",
      "source": [
        "Standardize the data"
      ],
      "metadata": {
        "id": "0g1NEndK7UB6"
      }
    },
    {
      "cell_type": "code",
      "source": [
        "from sklearn.preprocessing import StandardScaler"
      ],
      "metadata": {
        "id": "C5EP9f_B7UXU"
      },
      "execution_count": null,
      "outputs": []
    },
    {
      "cell_type": "code",
      "source": [
        "scaler = StandardScaler()\n",
        "\n",
        "X_train_std = scaler.fit_transform(X_train)\n",
        "\n",
        "X_test_std = scaler.transform(X_test)"
      ],
      "metadata": {
        "id": "sCGC8dku7cge"
      },
      "execution_count": null,
      "outputs": []
    },
    {
      "cell_type": "markdown",
      "source": [
        "**Building the Neural Network**"
      ],
      "metadata": {
        "id": "VxyxgeK8qkDj"
      }
    },
    {
      "cell_type": "markdown",
      "source": [
        "![download.png](data:image/png;base64,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)"
      ],
      "metadata": {
        "id": "sC4KsFDyqyvN"
      }
    },
    {
      "cell_type": "code",
      "source": [
        "# importing tensorflow and Keras\n",
        "import tensorflow as tf\n",
        "tf.random.set_seed(3)\n",
        "from tensorflow import keras"
      ],
      "metadata": {
        "id": "1WX_ChHfqrV2"
      },
      "execution_count": null,
      "outputs": []
    },
    {
      "cell_type": "code",
      "source": [
        "# setting up the layers of Neural Network\n",
        "\n",
        "model = keras.Sequential([\n",
        "                          keras.layers.Flatten(input_shape=(30,)),\n",
        "                          keras.layers.Dense(20, activation='relu'),\n",
        "                          keras.layers.Dense(2, activation='sigmoid')\n",
        "])"
      ],
      "metadata": {
        "id": "rL0jvBLY3Lkq"
      },
      "execution_count": null,
      "outputs": []
    },
    {
      "cell_type": "code",
      "source": [
        "# compiling the Neural Network\n",
        "\n",
        "model.compile(optimizer='adam',\n",
        "              loss='sparse_categorical_crossentropy',\n",
        "              metrics=['accuracy'])"
      ],
      "metadata": {
        "id": "DrqX3ZGv48Ef"
      },
      "execution_count": null,
      "outputs": []
    },
    {
      "cell_type": "code",
      "source": [
        "# training the Meural Network\n",
        "\n",
        "history = model.fit(X_train_std, Y_train, validation_split=0.1, epochs=10)"
      ],
      "metadata": {
        "colab": {
          "base_uri": "https://localhost:8080/"
        },
        "id": "4aullV3v584B",
        "outputId": "51c0d814-811d-4469-8ab4-cadda43655b2"
      },
      "execution_count": null,
      "outputs": [
        {
          "output_type": "stream",
          "name": "stdout",
          "text": [
            "Epoch 1/10\n",
            "13/13 [==============================] - 1s 20ms/step - loss: 0.8524 - accuracy: 0.6308 - val_loss: 0.6506 - val_accuracy: 0.6522\n",
            "Epoch 2/10\n",
            "13/13 [==============================] - 0s 6ms/step - loss: 0.5604 - accuracy: 0.6993 - val_loss: 0.4299 - val_accuracy: 0.7391\n",
            "Epoch 3/10\n",
            "13/13 [==============================] - 0s 4ms/step - loss: 0.3796 - accuracy: 0.8289 - val_loss: 0.3042 - val_accuracy: 0.8478\n",
            "Epoch 4/10\n",
            "13/13 [==============================] - 0s 5ms/step - loss: 0.2882 - accuracy: 0.8900 - val_loss: 0.2368 - val_accuracy: 0.9130\n",
            "Epoch 5/10\n",
            "13/13 [==============================] - 0s 4ms/step - loss: 0.2412 - accuracy: 0.9095 - val_loss: 0.1952 - val_accuracy: 0.9348\n",
            "Epoch 6/10\n",
            "13/13 [==============================] - 0s 4ms/step - loss: 0.2098 - accuracy: 0.9291 - val_loss: 0.1686 - val_accuracy: 0.9783\n",
            "Epoch 7/10\n",
            "13/13 [==============================] - 0s 4ms/step - loss: 0.1869 - accuracy: 0.9462 - val_loss: 0.1500 - val_accuracy: 0.9783\n",
            "Epoch 8/10\n",
            "13/13 [==============================] - 0s 4ms/step - loss: 0.1695 - accuracy: 0.9487 - val_loss: 0.1354 - val_accuracy: 0.9783\n",
            "Epoch 9/10\n",
            "13/13 [==============================] - 0s 6ms/step - loss: 0.1551 - accuracy: 0.9560 - val_loss: 0.1234 - val_accuracy: 0.9783\n",
            "Epoch 10/10\n",
            "13/13 [==============================] - 0s 4ms/step - loss: 0.1428 - accuracy: 0.9633 - val_loss: 0.1152 - val_accuracy: 0.9783\n"
          ]
        }
      ]
    },
    {
      "cell_type": "markdown",
      "source": [
        "Visualizing accuracy and loss"
      ],
      "metadata": {
        "id": "QZCz8JJ98guH"
      }
    },
    {
      "cell_type": "code",
      "source": [
        "plt.plot(history.history['accuracy'])\n",
        "plt.plot(history.history['val_accuracy'])\n",
        "\n",
        "plt.title('model accuracy')\n",
        "plt.ylabel('accuracy')\n",
        "plt.xlabel('epoch')\n",
        "\n",
        "plt.legend(['training data', 'validation data'], loc = 'lower right')"
      ],
      "metadata": {
        "colab": {
          "base_uri": "https://localhost:8080/",
          "height": 489
        },
        "id": "pNism-Z55zmw",
        "outputId": "870412f9-c18c-4247-effd-7cd6c92f338b"
      },
      "execution_count": null,
      "outputs": [
        {
          "output_type": "execute_result",
          "data": {
            "text/plain": [
              "<matplotlib.legend.Legend at 0x7faa6a759ab0>"
            ]
          },
          "metadata": {},
          "execution_count": 25
        },
        {
          "output_type": "display_data",
          "data": {
            "text/plain": [
              "<Figure size 640x480 with 1 Axes>"
            ],
            "image/png": "[encoded data removed]"
          },
          "metadata": {}
        }
      ]
    },
    {
      "cell_type": "code",
      "source": [
        "plt.plot(history.history['loss'])\n",
        "plt.plot(history.history['val_loss'])\n",
        "\n",
        "plt.title('model loss')\n",
        "plt.ylabel('loss')\n",
        "plt.xlabel('epoch')\n",
        "\n",
        "plt.legend(['training data', 'validation data'], loc = 'upper right')"
      ],
      "metadata": {
        "colab": {
          "base_uri": "https://localhost:8080/",
          "height": 489
        },
        "id": "ZrgfNlbk9EZK",
        "outputId": "5d639336-16a6-4c45-e5ec-f169ae91611b"
      },
      "execution_count": null,
      "outputs": [
        {
          "output_type": "execute_result",
          "data": {
            "text/plain": [
              "<matplotlib.legend.Legend at 0x7faa6a7b0790>"
            ]
          },
          "metadata": {},
          "execution_count": 26
        },
        {
          "output_type": "display_data",
          "data": {
            "text/plain": [
              "<Figure size 640x480 with 1 Axes>"
            ],
            "image/png": "[encoded data removed]"
          },
          "metadata": {}
        }
      ]
    },
    {
      "cell_type": "markdown",
      "source": [
        "Accuracy of the model on test data"
      ],
      "metadata": {
        "id": "ycbLKSDl-SJX"
      }
    },
    {
      "cell_type": "code",
      "source": [
        "loss, accuracy = model.evaluate(X_test_std, Y_test)\n",
        "print(accuracy)"
      ],
      "metadata": {
        "colab": {
          "base_uri": "https://localhost:8080/"
        },
        "id": "D3RgBzQF-B8W",
        "outputId": "be0abd03-0a02-4366-9b04-bf8011aa245c"
      },
      "execution_count": null,
      "outputs": [
        {
          "output_type": "stream",
          "name": "stdout",
          "text": [
            "4/4 [==============================] - 0s 3ms/step - loss: 0.1438 - accuracy: 0.9561\n",
            "0.9561403393745422\n"
          ]
        }
      ]
    },
    {
      "cell_type": "code",
      "source": [
        "print(X_test_std.shape)\n",
        "print(X_test_std[0])"
      ],
      "metadata": {
        "colab": {
          "base_uri": "https://localhost:8080/"
        },
        "id": "OWyJPf9O-oJT",
        "outputId": "67afd388-f4ba-480f-db6d-bd21f0d10146"
      },
      "execution_count": null,
      "outputs": [
        {
          "output_type": "stream",
          "name": "stdout",
          "text": [
            "(114, 30)\n",
            "[-0.04462793 -1.41612656 -0.05903514 -0.16234067  2.0202457  -0.11323672\n",
            "  0.18500609  0.47102419  0.63336386  0.26335737  0.53209124  2.62763999\n",
            "  0.62351167  0.11405261  1.01246781  0.41126289  0.63848593  2.88971815\n",
            " -0.41675911  0.74270853 -0.32983699 -1.67435595 -0.36854552 -0.38767294\n",
            "  0.32655007 -0.74858917 -0.54689089 -0.18278004 -1.23064515 -0.6268286 ]\n"
          ]
        }
      ]
    },
    {
      "cell_type": "code",
      "source": [
        "Y_pred = model.predict(X_test_std)"
      ],
      "metadata": {
        "id": "XWAZk1SK-3qf",
        "colab": {
          "base_uri": "https://localhost:8080/"
        },
        "outputId": "02d0580c-65c7-4e95-bcc0-3120d76d0499"
      },
      "execution_count": null,
      "outputs": [
        {
          "output_type": "stream",
          "name": "stdout",
          "text": [
            "4/4 [==============================] - 0s 3ms/step\n"
          ]
        }
      ]
    },
    {
      "cell_type": "code",
      "source": [
        "print(Y_pred.shape)\n",
        "print(Y_pred[0])"
      ],
      "metadata": {
        "colab": {
          "base_uri": "https://localhost:8080/"
        },
        "id": "umNl8qUX_GeO",
        "outputId": "9f15b946-4884-4a07-bbfc-5d1f2b65aa91"
      },
      "execution_count": null,
      "outputs": [
        {
          "output_type": "stream",
          "name": "stdout",
          "text": [
            "(114, 2)\n",
            "[0.38354754 0.6474192 ]\n"
          ]
        }
      ]
    },
    {
      "cell_type": "code",
      "source": [
        "print(X_test_std)"
      ],
      "metadata": {
        "colab": {
          "base_uri": "https://localhost:8080/"
        },
        "id": "0lsaXHZr_mTT",
        "outputId": "2f2ba250-a840-4f70-d4e1-cbac4faedd56"
      },
      "execution_count": null,
      "outputs": [
        {
          "output_type": "stream",
          "name": "stdout",
          "text": [
            "[[-0.04462793 -1.41612656 -0.05903514 ... -0.18278004 -1.23064515\n",
            "  -0.6268286 ]\n",
            " [ 0.24583601 -0.06219797  0.21802678 ...  0.54129749  0.11047691\n",
            "   0.0483572 ]\n",
            " [-1.26115925 -0.29051645 -1.26499659 ... -1.35138617  0.269338\n",
            "  -0.28231213]\n",
            " ...\n",
            " [ 0.72709489  0.45836817  0.75277276 ...  1.46701686  1.19909344\n",
            "   0.65319961]\n",
            " [ 0.25437907  1.33054477  0.15659489 ... -1.29043534 -2.22561725\n",
            "  -1.59557344]\n",
            " [ 0.84100232 -0.06676434  0.8929529  ...  2.15137705  0.35629355\n",
            "   0.37459546]]\n"
          ]
        }
      ]
    },
    {
      "cell_type": "code",
      "source": [
        "print(Y_pred)"
      ],
      "metadata": {
        "colab": {
          "base_uri": "https://localhost:8080/"
        },
        "id": "cmaeRBc7_M59",
        "outputId": "1a90f2f7-dc3d-43bf-ab5e-6c2211ef4a82"
      },
      "execution_count": null,
      "outputs": [
        {
          "output_type": "stream",
          "name": "stdout",
          "text": [
            "[[0.38354754 0.6474192 ]\n",
            " [0.5564618  0.6013691 ]\n",
            " [0.00553681 0.7463743 ]\n",
            " [0.9998537  0.5273791 ]\n",
            " [0.5200228  0.61429715]\n",
            " [0.98418164 0.507948  ]\n",
            " [0.28022185 0.583675  ]\n",
            " [0.01433842 0.83563113]\n",
            " [0.03666852 0.74223053]\n",
            " [0.13015571 0.8110225 ]\n",
            " [0.6333471  0.7125243 ]\n",
            " [0.03408456 0.6205829 ]\n",
            " [0.1675916  0.7679657 ]\n",
            " [0.13608603 0.7362888 ]\n",
            " [0.04166908 0.73750824]\n",
            " [0.9321906  0.54597545]\n",
            " [0.01541149 0.7638257 ]\n",
            " [0.01824804 0.6402189 ]\n",
            " [0.06113458 0.7646419 ]\n",
            " [0.94251853 0.5441887 ]\n",
            " [0.18640393 0.53038037]\n",
            " [0.01622482 0.74490994]\n",
            " [0.0368389  0.68362695]\n",
            " [0.01938958 0.8479102 ]\n",
            " [0.37635475 0.7064225 ]\n",
            " [0.9833901  0.5440775 ]\n",
            " [0.09031725 0.630313  ]\n",
            " [0.4270417  0.7043403 ]\n",
            " [0.967197   0.62470955]\n",
            " [0.9842425  0.5251245 ]\n",
            " [0.25278267 0.79483217]\n",
            " [0.05200248 0.76543045]\n",
            " [0.03389705 0.6546566 ]\n",
            " [0.9976171  0.7990296 ]\n",
            " [0.99336797 0.5551193 ]\n",
            " [0.10547806 0.57236785]\n",
            " [0.01426015 0.8997803 ]\n",
            " [0.24860626 0.7870689 ]\n",
            " [0.00773854 0.7462442 ]\n",
            " [0.02094996 0.72070575]\n",
            " [0.99912584 0.44275305]\n",
            " [0.7915451  0.5233762 ]\n",
            " [0.01614087 0.91288704]\n",
            " [0.01752744 0.5625593 ]\n",
            " [0.9019533  0.6025781 ]\n",
            " [0.02720624 0.6623117 ]\n",
            " [0.00191219 0.6982784 ]\n",
            " [0.03564252 0.7466545 ]\n",
            " [0.99667627 0.740245  ]\n",
            " [0.9787733  0.55212593]\n",
            " [0.11603641 0.8143537 ]\n",
            " [0.9431153  0.65203977]\n",
            " [0.71243596 0.6082661 ]\n",
            " [0.03279608 0.83305323]\n",
            " [0.01163745 0.7252679 ]\n",
            " [0.65598965 0.63076556]\n",
            " [0.07501597 0.80703604]\n",
            " [0.02629608 0.8067393 ]\n",
            " [0.9582222  0.7148828 ]\n",
            " [0.03309266 0.5621009 ]\n",
            " [0.2116813  0.58970493]\n",
            " [0.9660479  0.4734359 ]\n",
            " [0.0176983  0.85126954]\n",
            " [0.98690206 0.52508193]\n",
            " [0.96527225 0.6788971 ]\n",
            " [0.578046   0.3917189 ]\n",
            " [0.99710405 0.6526453 ]\n",
            " [0.94377506 0.5013069 ]\n",
            " [0.69478923 0.785279  ]\n",
            " [0.8266373  0.67036337]\n",
            " [0.8905383  0.47352242]\n",
            " [0.9530803  0.4122417 ]\n",
            " [0.06226241 0.7521444 ]\n",
            " [0.9376919  0.611917  ]\n",
            " [0.00480153 0.848943  ]\n",
            " [0.9013056  0.5287817 ]\n",
            " [0.01340801 0.69195837]\n",
            " [0.01002205 0.80097926]\n",
            " [0.4653084  0.7661803 ]\n",
            " [0.84426534 0.6817188 ]\n",
            " [0.99352056 0.50097746]\n",
            " [0.77573794 0.57342553]\n",
            " [0.9826867  0.5772301 ]\n",
            " [0.20158985 0.5063085 ]\n",
            " [0.05266234 0.7126448 ]\n",
            " [0.55281425 0.7216217 ]\n",
            " [0.02820572 0.41772938]\n",
            " [0.03962499 0.7089016 ]\n",
            " [0.09926365 0.49996737]\n",
            " [0.9768337  0.28142473]\n",
            " [0.02649699 0.68654984]\n",
            " [0.2879703  0.78687614]\n",
            " [0.01067148 0.5457311 ]\n",
            " [0.93771505 0.33428344]\n",
            " [0.89542353 0.6112884 ]\n",
            " [0.06893339 0.7906948 ]\n",
            " [0.9945537  0.60428756]\n",
            " [0.9744439  0.5688873 ]\n",
            " [0.10798372 0.788855  ]\n",
            " [0.01030023 0.8431644 ]\n",
            " [0.00419042 0.8328861 ]\n",
            " [0.69573325 0.43625018]\n",
            " [0.9984886  0.6595908 ]\n",
            " [0.99935955 0.5569884 ]\n",
            " [0.0635437  0.7258003 ]\n",
            " [0.00578137 0.59297997]\n",
            " [0.00150142 0.57630146]\n",
            " [0.00344883 0.5188333 ]\n",
            " [0.00251817 0.7752703 ]\n",
            " [0.2229775  0.80735064]\n",
            " [0.9958282  0.5548331 ]\n",
            " [0.99301374 0.63691807]\n",
            " [0.45499086 0.86536354]\n",
            " [0.98910487 0.5947773 ]]\n"
          ]
        }
      ]
    },
    {
      "cell_type": "markdown",
      "source": [
        "model.predict() gives the prediction probability of each class for that data point"
      ],
      "metadata": {
        "id": "dx5ZqN_W_6U-"
      }
    },
    {
      "cell_type": "code",
      "source": [
        "#  argmax function\n",
        "\n",
        "my_list = [0.25, 0.56]\n",
        "\n",
        "index_of_max_value = np.argmax(my_list)\n",
        "print(my_list)\n",
        "print(index_of_max_value)"
      ],
      "metadata": {
        "colab": {
          "base_uri": "https://localhost:8080/"
        },
        "id": "pPF0aJ0sAbML",
        "outputId": "4d50b726-9b8c-4f23-e356-26d51110bf86"
      },
      "execution_count": null,
      "outputs": [
        {
          "output_type": "stream",
          "name": "stdout",
          "text": [
            "[0.25, 0.56]\n",
            "1\n"
          ]
        }
      ]
    },
    {
      "cell_type": "code",
      "source": [
        "# converting the prediction probability to class labels\n",
        "\n",
        "Y_pred_labels = [np.argmax(i) for i in Y_pred]\n",
        "print(Y_pred_labels)"
      ],
      "metadata": {
        "colab": {
          "base_uri": "https://localhost:8080/"
        },
        "id": "67EUrfSf_rZi",
        "outputId": "877b8ac1-2f3d-4e15-a35d-b6f6aaf5c03d"
      },
      "execution_count": null,
      "outputs": [
        {
          "output_type": "stream",
          "name": "stdout",
          "text": [
            "[1, 1, 1, 0, 1, 0, 1, 1, 1, 1, 1, 1, 1, 1, 1, 0, 1, 1, 1, 0, 1, 1, 1, 1, 1, 0, 1, 1, 0, 0, 1, 1, 1, 0, 0, 1, 1, 1, 1, 1, 0, 0, 1, 1, 0, 1, 1, 1, 0, 0, 1, 0, 0, 1, 1, 0, 1, 1, 0, 1, 1, 0, 1, 0, 0, 0, 0, 0, 1, 0, 0, 0, 1, 0, 1, 0, 1, 1, 1, 0, 0, 0, 0, 1, 1, 1, 1, 1, 1, 0, 1, 1, 1, 0, 0, 1, 0, 0, 1, 1, 1, 0, 0, 0, 1, 1, 1, 1, 1, 1, 0, 0, 1, 0]\n"
          ]
        }
      ]
    },
    {
      "cell_type": "markdown",
      "source": [
        "**Building the predictive system**"
      ],
      "metadata": {
        "id": "PBvyhDoEBVk8"
      }
    },
    {
      "cell_type": "code",
      "source": [
        "input_data = (11.76,21.6,74.72,427.9,0.08637,0.04966,0.01657,0.01115,0.1495,0.05888,0.4062,1.21,2.635,28.47,0.005857,0.009758,0.01168,0.007445,0.02406,0.001769,12.98,25.72,82.98,516.5,0.1085,0.08615,0.05523,0.03715,0.2433,0.06563)\n",
        "\n",
        "# change the input_data to a numpy array\n",
        "input_data_as_numpy_array = np.asarray(input_data)\n",
        "\n",
        "# reshape the numpy array as we are predicting for one data point\n",
        "input_data_reshaped = input_data_as_numpy_array.reshape(1,-1)\n",
        "\n",
        "# standardizing the input data\n",
        "input_data_std = scaler.transform(input_data_reshaped)\n",
        "\n",
        "prediction = model.predict(input_data_std)\n",
        "print(prediction)\n",
        "\n",
        "prediction_label = [np.argmax(prediction)]\n",
        "print(prediction_label)\n",
        "\n",
        "if(prediction_label[0] == 0):\n",
        "  print('The tumor is Malignant')\n",
        "\n",
        "else:\n",
        "  print('The tumor is Benign')"
      ],
      "metadata": {
        "colab": {
          "base_uri": "https://localhost:8080/"
        },
        "id": "rXQi6eStBJxb",
        "outputId": "6b5c5957-9868-47ef-dcbc-4a4a1f232569"
      },
      "execution_count": null,
      "outputs": [
        {
          "output_type": "stream",
          "name": "stderr",
          "text": [
            "/usr/local/lib/python3.10/dist-packages/sklearn/base.py:439: UserWarning: X does not have valid feature names, but StandardScaler was fitted with feature names\n",
            "  warnings.warn(\n"
          ]
        },
        {
          "output_type": "stream",
          "name": "stdout",
          "text": [
            "1/1 [==============================] - 0s 23ms/step\n",
            "[[0.03288293 0.8110906 ]]\n",
            "[1]\n",
            "The tumor is Benign\n"
          ]
        }
      ]
    },
    {
      "cell_type": "code",
      "source": [],
      "metadata": {
        "id": "W0jvu0aNDDP3"
      },
      "execution_count": null,
      "outputs": []
    }
  ]
}